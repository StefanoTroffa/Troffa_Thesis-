{
 "cells": [
  {
   "cell_type": "markdown",
   "metadata": {
    "colab_type": "text",
    "id": "j6331ZSsQGY3"
   },
   "source": [
    "# MNIST classification"
   ]
  },
  {
   "cell_type": "markdown",
   "metadata": {
    "colab_type": "text",
    "id": "udLObUVeGfTs"
   },
   "source": [
    "This tutorial builds a quantum neural network (QNN) to classify a simplified version of MNIST, similar to the approach used in <a href=\"https://arxiv.org/pdf/1802.06002.pdf\" class=\"external\">Farhi et al</a>, following the tensorflow tutorial to have a term of comparison. The performance of the quantum neural network and the graph version on this classical data problem is compared with a classical neural network. After tons of trial I was not able to train a Graph Neural Network on the Mnist reduced dataset 4x4 for binary classification of digits 3 and 6. Further study of the architecture is needed to figure out what is going wrong and why.  I observed difference in performance betweeen the Quantum Neural Network with input data given as single rotation on each qubit and an input data that takes into account some fixed rotation on qubit pairs following the adjacency matrix. The two Quantum Neural Network have further learned different parameters as expected. The accuracy seems slightly higher when taking into account the adjacency matrix for the input data, however the training time also increase considerably. However, it should be notice that in this case study the network number of gates is comparable to the input data number of gates, hence for much deeper network we expect the slow down to be negligible.\n",
    "The classical Neural Network outperforms the quantum ones, however it was trained for more epochs, regardless the accuracy tops around 92% and does not seem to be able to grow further."
   ]
  },
  {
   "cell_type": "markdown",
   "metadata": {},
   "source": [
    "### To do\n",
    "At the present moment, there is no yet a standardized procedure to find the best ***learning rate***, we want to implement a Tuner (maybe the one from tensorflow, even better if I can code my own) to find the optimal learning rate, followed with a cyclic learning rate routine, as implemented by <a href=\"https://arxiv.org/abs/1506.01186\" class=\"external\">Leslie N. Smith</a>, in 2015. The procedure is ordinarely used in the Deep Learning community, and I am interested in proving that also in this data provides better results compared to constant, exponentially decreasing and linear decreasing learning rate.\n",
    "\n",
    "For what it regards the ***batch size*** we found the result from <a href=\"https://openreview.net/pdf?id=B1Yy1BxCZ\" class=\"external\">Samuel L. Smith, Pieter-Jan Kindermans, Chris Ying & Quoc V. Le </a>, they have shown that increasing the batch size provides similar results to decreasing the learning rate but has fewer parameters updates. If it suitable we will try to see if that holds also in training Quantum Neural Networks and (eventually) if it is more or less robust to small noise in data\n",
    "\n",
    "Turning to ***metrics & loss functions***, I have yet to build a better understanding of the different possibilities and how they influence the training, both in quantum and classical neural networks. "
   ]
  },
  {
   "cell_type": "markdown",
   "metadata": {},
   "source": [
    "### Utility of the current work:\n",
    "\n",
    "I have developed a better understanding of the syntax and standard procedures in Machine Learning, I was able to work effectively with TensorflowQuantum and I know how to setup different conda environment to avoid conflicts between packages. \n",
    "I was able to extract from data that has not an inherent graph structure an adjacency matrix and use it for training the Quantum Neural Network. Further research on the classical graph neural network however is needed. I am starting to work on a different dataset, namely the Ising Model 5x5 as last part of playing around. Afterwords, I will deal with Ising Chains and Heisenberg Model. For now we are sticking to classification tasks, therefore the protein datasets might be dealt with next."
   ]
  },
  {
   "cell_type": "markdown",
   "metadata": {
    "colab_type": "text",
    "id": "X35qHdh5Gzqg"
   },
   "source": [
    "## Setup"
   ]
  },
  {
   "cell_type": "markdown",
   "metadata": {
    "colab_type": "text",
    "id": "hdgMMZEBGqyl"
   },
   "source": [
    "Now import TensorFlow and the module dependencies:"
   ]
  },
  {
   "cell_type": "code",
   "execution_count": 84,
   "metadata": {
    "colab": {},
    "colab_type": "code",
    "execution": {
     "iopub.execute_input": "2023-03-21T11:34:42.735851Z",
     "iopub.status.busy": "2023-03-21T11:34:42.735242Z",
     "iopub.status.idle": "2023-03-21T11:34:46.481506Z",
     "shell.execute_reply": "2023-03-21T11:34:46.480608Z"
    },
    "id": "enZ300Bflq80"
   },
   "outputs": [],
   "source": [
    "import cProfile\n",
    "import tensorflow as tf\n",
    "import tensorflow_quantum as tfq\n",
    "\n",
    "import cirq\n",
    "import sympy\n",
    "import numpy as np\n",
    "import seaborn as sns\n",
    "import collections\n",
    "\n",
    "# visualization tools\n",
    "%matplotlib inline\n",
    "import matplotlib.pyplot as plt\n",
    "from cirq.contrib.svg import SVGCircuit"
   ]
  },
  {
   "cell_type": "markdown",
   "metadata": {
    "colab_type": "text",
    "id": "b08Mmbs8lr81"
   },
   "source": [
    "## 1. Load the data\n",
    "\n",
    "In this tutorial you will build a binary classifier to distinguish between the digits 3 and 6, following <a href=\"https://arxiv.org/pdf/1802.06002.pdf\" class=\"external\">Farhi et al.</a> This section covers the data handling that:\n",
    "\n",
    "- Loads the raw data from Keras.\n",
    "- Filters the dataset to only 3s and 6s.\n",
    "- Downscales the images so they fit can fit in a quantum computer.\n",
    "- Removes any contradictory examples.\n",
    "- Converts the binary images to Cirq circuits.\n",
    "- Converts the Cirq circuits to TensorFlow Quantum circuits. "
   ]
  },
  {
   "cell_type": "markdown",
   "metadata": {
    "colab_type": "text",
    "id": "pDUdGxn-ojgy"
   },
   "source": [
    "### 1.1 Load the raw data"
   ]
  },
  {
   "cell_type": "markdown",
   "metadata": {
    "colab_type": "text",
    "id": "xZyGXlaKojgz"
   },
   "source": [
    "Load the MNIST dataset distributed with Keras. "
   ]
  },
  {
   "cell_type": "code",
   "execution_count": 2,
   "metadata": {
    "colab": {},
    "colab_type": "code",
    "execution": {
     "iopub.execute_input": "2023-03-21T11:34:46.486372Z",
     "iopub.status.busy": "2023-03-21T11:34:46.484926Z",
     "iopub.status.idle": "2023-03-21T11:34:47.121710Z",
     "shell.execute_reply": "2023-03-21T11:34:47.120913Z"
    },
    "id": "d9OSExvCojg0"
   },
   "outputs": [
    {
     "name": "stdout",
     "output_type": "stream",
     "text": [
      "Number of original training examples: 60000\n",
      "Number of original test examples: 10000\n"
     ]
    }
   ],
   "source": [
    "(x_train, y_train), (x_test, y_test) = tf.keras.datasets.mnist.load_data()\n",
    "\n",
    "# Rescale the images from [0,255] to the [0.0,1.0] range.\n",
    "x_train, x_test = x_train[..., np.newaxis]/255.0, x_test[..., np.newaxis]/255.0\n",
    "\n",
    "print(\"Number of original training examples:\", len(x_train))\n",
    "print(\"Number of original test examples:\", len(x_test))"
   ]
  },
  {
   "cell_type": "markdown",
   "metadata": {
    "colab_type": "text",
    "id": "fZpbygdGojg3"
   },
   "source": [
    "Filter the dataset to keep just the 3s and 6s,  remove the other classes. At the same time convert the label, `y`, to boolean: `True` for `3` and `False` for 6. "
   ]
  },
  {
   "cell_type": "code",
   "execution_count": 3,
   "metadata": {
    "colab": {},
    "colab_type": "code",
    "execution": {
     "iopub.execute_input": "2023-03-21T11:34:47.125227Z",
     "iopub.status.busy": "2023-03-21T11:34:47.124647Z",
     "iopub.status.idle": "2023-03-21T11:34:47.128767Z",
     "shell.execute_reply": "2023-03-21T11:34:47.128094Z"
    },
    "id": "hOw68cCZojg4"
   },
   "outputs": [],
   "source": [
    "def filter_36(x, y):\n",
    "    keep = (y == 3) | (y == 6)\n",
    "    x, y = x[keep], y[keep]\n",
    "    y = y == 3\n",
    "    return x,y"
   ]
  },
  {
   "cell_type": "code",
   "execution_count": 4,
   "metadata": {
    "colab": {},
    "colab_type": "code",
    "execution": {
     "iopub.execute_input": "2023-03-21T11:34:47.131737Z",
     "iopub.status.busy": "2023-03-21T11:34:47.131279Z",
     "iopub.status.idle": "2023-03-21T11:34:47.172507Z",
     "shell.execute_reply": "2023-03-21T11:34:47.171720Z"
    },
    "id": "p-XEU8egGL6q"
   },
   "outputs": [
    {
     "name": "stdout",
     "output_type": "stream",
     "text": [
      "Number of filtered training examples: 12049\n",
      "Number of filtered test examples: 1968\n"
     ]
    }
   ],
   "source": [
    "x_train, y_train = filter_36(x_train, y_train)\n",
    "x_test, y_test = filter_36(x_test, y_test)\n",
    "\n",
    "print(\"Number of filtered training examples:\", len(x_train))\n",
    "print(\"Number of filtered test examples:\", len(x_test))"
   ]
  },
  {
   "cell_type": "markdown",
   "metadata": {
    "colab_type": "text",
    "id": "3wyiaP0Xojg_"
   },
   "source": [
    "Show the first example:"
   ]
  },
  {
   "cell_type": "code",
   "execution_count": 82,
   "metadata": {
    "colab": {},
    "colab_type": "code",
    "execution": {
     "iopub.execute_input": "2023-03-21T11:34:47.176062Z",
     "iopub.status.busy": "2023-03-21T11:34:47.175515Z",
     "iopub.status.idle": "2023-03-21T11:34:47.482701Z",
     "shell.execute_reply": "2023-03-21T11:34:47.481778Z"
    },
    "id": "j5STP7MbojhA"
   },
   "outputs": [
    {
     "data": {
      "image/png": "[encoded data removed]",
      "text/plain": [
       "<Figure size 640x480 with 2 Axes>"
      ]
     },
     "metadata": {},
     "output_type": "display_data"
    }
   ],
   "source": [
    "#print(y_train[0])\n",
    "\n",
    "plt.imshow(x_train[0, :, :, 0])\n",
    "plt.colorbar();"
   ]
  },
  {
   "cell_type": "markdown",
   "metadata": {
    "colab_type": "text",
    "id": "wNS9sVPQojhC"
   },
   "source": [
    "### 1.2 Downscale the images"
   ]
  },
  {
   "cell_type": "markdown",
   "metadata": {
    "colab_type": "text",
    "id": "fmmtplIFGL6t"
   },
   "source": [
    "An image size of 28x28 is much too large for current quantum computers. Resize the image down to 4x4:"
   ]
  },
  {
   "cell_type": "code",
   "execution_count": 6,
   "metadata": {
    "colab": {},
    "colab_type": "code",
    "execution": {
     "iopub.execute_input": "2023-03-21T11:34:47.486559Z",
     "iopub.status.busy": "2023-03-21T11:34:47.485823Z",
     "iopub.status.idle": "2023-03-21T11:34:47.583288Z",
     "shell.execute_reply": "2023-03-21T11:34:47.582349Z"
    },
    "id": "lbhUdBFWojhE",
    "scrolled": false
   },
   "outputs": [],
   "source": [
    "rescale_l=4\n",
    "\n",
    "x_train_small = tf.image.resize(x_train, (rescale_l,rescale_l)).numpy()\n",
    "x_test_small = tf.image.resize(x_test, (rescale_l,rescale_l)).numpy()"
   ]
  },
  {
   "cell_type": "markdown",
   "metadata": {
    "colab_type": "text",
    "id": "pOMd7zIjGL6x"
   },
   "source": [
    "Again, display the first training example—after resize: "
   ]
  },
  {
   "cell_type": "code",
   "execution_count": 83,
   "metadata": {
    "colab": {},
    "colab_type": "code",
    "execution": {
     "iopub.execute_input": "2023-03-21T11:34:47.587071Z",
     "iopub.status.busy": "2023-03-21T11:34:47.586363Z",
     "iopub.status.idle": "2023-03-21T11:34:47.858444Z",
     "shell.execute_reply": "2023-03-21T11:34:47.857517Z"
    },
    "id": "YIYOtCRIGL6y",
    "scrolled": true
   },
   "outputs": [
    {
     "data": {
      "image/png": "[encoded data removed]",
      "text/plain": [
       "<Figure size 640x480 with 2 Axes>"
      ]
     },
     "metadata": {},
     "output_type": "display_data"
    }
   ],
   "source": [
    "#print(y_train[0])\n",
    "\n",
    "plt.imshow(x_train_small[0,:,:,0], vmin=0, vmax=1)\n",
    "plt.colorbar();"
   ]
  },
  {
   "cell_type": "markdown",
   "metadata": {
    "colab_type": "text",
    "id": "gGeF1_qtojhK"
   },
   "source": [
    "### 1.3 Remove contradictory examples"
   ]
  },
  {
   "cell_type": "markdown",
   "metadata": {
    "colab_type": "text",
    "id": "7ZLkq2yeojhL"
   },
   "source": [
    "From section *3.3 Learning to Distinguish Digits* of <a href=\"https://arxiv.org/pdf/1802.06002.pdf\" class=\"external\">Farhi et al.</a>, filter the dataset to remove images that are labeled as belonging to both classes.\n",
    "\n",
    "This is not a standard machine-learning procedure, but is included in the interest of following the paper."
   ]
  },
  {
   "cell_type": "code",
   "execution_count": 8,
   "metadata": {
    "colab": {},
    "colab_type": "code",
    "execution": {
     "iopub.execute_input": "2023-03-21T11:34:47.862246Z",
     "iopub.status.busy": "2023-03-21T11:34:47.861552Z",
     "iopub.status.idle": "2023-03-21T11:34:47.870209Z",
     "shell.execute_reply": "2023-03-21T11:34:47.869326Z"
    },
    "id": "LqOPW0C7ojhL"
   },
   "outputs": [],
   "source": [
    "def remove_contradicting(xs, ys):\n",
    "    mapping = collections.defaultdict(set)\n",
    "    orig_x = {}\n",
    "    # Determine the set of labels for each unique image:\n",
    "    for x,y in zip(xs,ys):\n",
    "        orig_x[tuple(x.flatten())] = x\n",
    "        mapping[tuple(x.flatten())].add(y)\n",
    "    \n",
    "    new_x = []\n",
    "    new_y = []\n",
    "    for flatten_x in mapping:\n",
    "        x = orig_x[flatten_x]\n",
    "        labels = mapping[flatten_x]\n",
    "        if len(labels) == 1:\n",
    "            new_x.append(x)\n",
    "            new_y.append(next(iter(labels)))\n",
    "        else:\n",
    "            # Throw out images that match more than one label.\n",
    "            pass\n",
    "    \n",
    "    num_uniq_3 = sum(1 for value in mapping.values() if len(value) == 1 and True in value)\n",
    "    num_uniq_6 = sum(1 for value in mapping.values() if len(value) == 1 and False in value)\n",
    "    num_uniq_both = sum(1 for value in mapping.values() if len(value) == 2)\n",
    "\n",
    "    print(\"Number of unique images:\", len(mapping.values()))\n",
    "    print(\"Number of unique 3s: \", num_uniq_3)\n",
    "    print(\"Number of unique 6s: \", num_uniq_6)\n",
    "    print(\"Number of unique contradicting labels (both 3 and 6): \", num_uniq_both)\n",
    "    print()\n",
    "    print(\"Initial number of images: \", len(xs))\n",
    "    print(\"Remaining non-contradicting unique images: \", len(new_x))\n",
    "    \n",
    "    return np.array(new_x), np.array(new_y)"
   ]
  },
  {
   "cell_type": "markdown",
   "metadata": {
    "colab_type": "text",
    "id": "VMOiJfz_ojhP"
   },
   "source": [
    "The resulting counts do not closely match the reported values, but the exact procedure is not specified.\n",
    "\n",
    "It is also worth noting here that applying filtering contradictory examples at this point does not totally prevent the model from receiving contradictory training examples: the next step binarizes the data which will cause more collisions. "
   ]
  },
  {
   "cell_type": "code",
   "execution_count": 9,
   "metadata": {
    "colab": {},
    "colab_type": "code",
    "execution": {
     "iopub.execute_input": "2023-03-21T11:34:47.873282Z",
     "iopub.status.busy": "2023-03-21T11:34:47.872807Z",
     "iopub.status.idle": "2023-03-21T11:34:48.013719Z",
     "shell.execute_reply": "2023-03-21T11:34:48.012747Z"
    },
    "id": "zpnsAssWojhP",
    "scrolled": true
   },
   "outputs": [
    {
     "name": "stdout",
     "output_type": "stream",
     "text": [
      "Number of unique images: 10387\n",
      "Number of unique 3s:  4912\n",
      "Number of unique 6s:  5426\n",
      "Number of unique contradicting labels (both 3 and 6):  49\n",
      "\n",
      "Initial number of images:  12049\n",
      "Remaining non-contradicting unique images:  10338\n"
     ]
    }
   ],
   "source": [
    "x_train_nocon, y_train_nocon = remove_contradicting(x_train_small, y_train)"
   ]
  },
  {
   "cell_type": "markdown",
   "metadata": {
    "colab_type": "text",
    "id": "SlJ5NVaPojhT"
   },
   "source": [
    "### 1.4 Encode the data as quantum circuits\n",
    "\n",
    "To process images using a quantum computer, <a href=\"https://arxiv.org/pdf/1802.06002.pdf\" class=\"external\">Farhi et al.</a> proposed representing each pixel with a qubit, with the state depending on the value of the pixel. The first step is to convert to a binary encoding."
   ]
  },
  {
   "cell_type": "code",
   "execution_count": 10,
   "metadata": {
    "colab": {},
    "colab_type": "code",
    "execution": {
     "iopub.execute_input": "2023-03-21T11:34:48.017334Z",
     "iopub.status.busy": "2023-03-21T11:34:48.016608Z",
     "iopub.status.idle": "2023-03-21T11:34:48.021725Z",
     "shell.execute_reply": "2023-03-21T11:34:48.020835Z"
    },
    "id": "1z8J7OyDojhV"
   },
   "outputs": [],
   "source": [
    "THRESHOLD = 0.5\n",
    "\n",
    "x_train_bin = np.array(x_train_nocon > THRESHOLD, dtype=np.float32)\n",
    "x_test_bin = np.array(x_test_small > THRESHOLD, dtype=np.float32)"
   ]
  },
  {
   "cell_type": "markdown",
   "metadata": {
    "colab_type": "text",
    "id": "SlJ5NVaPojhU"
   },
   "source": [
    "If you were to remove contradictory images at this point you would be left with only 193, likely not enough for effective training."
   ]
  },
  {
   "cell_type": "code",
   "execution_count": 11,
   "metadata": {
    "colab": {},
    "colab_type": "code",
    "execution": {
     "iopub.execute_input": "2023-03-21T11:34:48.025059Z",
     "iopub.status.busy": "2023-03-21T11:34:48.024374Z",
     "iopub.status.idle": "2023-03-21T11:34:48.096023Z",
     "shell.execute_reply": "2023-03-21T11:34:48.095146Z"
    },
    "id": "1z8J7OyDojhW"
   },
   "outputs": [
    {
     "name": "stdout",
     "output_type": "stream",
     "text": [
      "Number of unique images: 193\n",
      "Number of unique 3s:  80\n",
      "Number of unique 6s:  69\n",
      "Number of unique contradicting labels (both 3 and 6):  44\n",
      "\n",
      "Initial number of images:  10338\n",
      "Remaining non-contradicting unique images:  149\n"
     ]
    }
   ],
   "source": [
    "_ = remove_contradicting(x_train_bin, y_train_nocon)"
   ]
  },
  {
   "cell_type": "markdown",
   "metadata": {
    "colab_type": "text",
    "id": "oLyxS9KlojhZ"
   },
   "source": [
    "The qubits at pixel indices with values that exceed a threshold, are rotated through an $X$ gate."
   ]
  },
  {
   "cell_type": "code",
   "execution_count": 12,
   "metadata": {
    "colab": {},
    "colab_type": "code",
    "execution": {
     "iopub.execute_input": "2023-03-21T11:34:48.099500Z",
     "iopub.status.busy": "2023-03-21T11:34:48.099001Z",
     "iopub.status.idle": "2023-03-21T11:34:50.313236Z",
     "shell.execute_reply": "2023-03-21T11:34:50.312427Z"
    },
    "id": "aOu_3-3ZGL61"
   },
   "outputs": [],
   "source": [
    "def convert_to_circuit(image):\n",
    "    \"\"\"Encode truncated classical image into quantum datapoint.\"\"\"\n",
    "    values = np.ndarray.flatten(image)\n",
    "    qubits = cirq.GridQubit.rect(4, 4)\n",
    "    circuit = cirq.Circuit()\n",
    "    for i, value in enumerate(values):\n",
    "        if value:\n",
    "            circuit.append(cirq.X(qubits[i]))\n",
    "            \n",
    "    return circuit\n",
    "\n",
    "\n",
    "x_train_circ = [convert_to_circuit(x) for x in x_train_bin]\n",
    "x_test_circ = [convert_to_circuit(x) for x in x_test_bin]"
   ]
  },
  {
   "cell_type": "markdown",
   "metadata": {
    "colab_type": "text",
    "id": "zSCXqzOzojhd"
   },
   "source": [
    "Here is the circuit created for the first example (circuit diagrams do not show qubits with zero gates):"
   ]
  },
  {
   "cell_type": "code",
   "execution_count": 73,
   "metadata": {},
   "outputs": [
    {
     "name": "stdout",
     "output_type": "stream",
     "text": [
      "Help on module matplotlib.font_manager in matplotlib:\n",
      "\n",
      "NAME\n",
      "    matplotlib.font_manager - A module for finding, managing, and using fonts across platforms.\n",
      "\n",
      "DESCRIPTION\n",
      "    This module provides a single `FontManager` instance, ``fontManager``, that can\n",
      "    be shared across backends and platforms.  The `findfont`\n",
      "    function returns the best TrueType (TTF) font file in the local or\n",
      "    system font path that matches the specified `FontProperties`\n",
      "    instance.  The `FontManager` also handles Adobe Font Metrics\n",
      "    (AFM) font files for use by the PostScript backend.\n",
      "    \n",
      "    The design is based on the `W3C Cascading Style Sheet, Level 1 (CSS1)\n",
      "    font specification <http://www.w3.org/TR/1998/REC-CSS2-19980512/>`_.\n",
      "    Future versions may implement the Level 2 or 2.1 specifications.\n",
      "\n",
      "CLASSES\n",
      "    builtins.object\n",
      "        FontManager\n",
      "        FontProperties\n",
      "    \n",
      "    class FontManager(builtins.object)\n",
      "     |  FontManager(size=None, weight='normal')\n",
      "     |  \n",
      "     |  On import, the `FontManager` singleton instance creates a list of ttf and\n",
      "     |  afm fonts and caches their `FontProperties`.  The `FontManager.findfont`\n",
      "     |  method does a nearest neighbor search to find the font that most closely\n",
      "     |  matches the specification.  If no good enough match is found, the default\n",
      "     |  font is returned.\n",
      "     |  \n",
      "     |  Methods defined here:\n",
      "     |  \n",
      "     |  __init__(self, size=None, weight='normal')\n",
      "     |      Initialize self.  See help(type(self)) for accurate signature.\n",
      "     |  \n",
      "     |  addfont(self, path)\n",
      "     |      Cache the properties of the font at *path* to make it available to the\n",
      "     |      `FontManager`.  The type of font is inferred from the path suffix.\n",
      "     |      \n",
      "     |      Parameters\n",
      "     |      ----------\n",
      "     |      path : str or path-like\n",
      "     |  \n",
      "     |  findfont(self, prop, fontext='ttf', directory=None, fallback_to_default=True, rebuild_if_missing=True)\n",
      "     |      Find a font that most closely matches the given font properties.\n",
      "     |      \n",
      "     |      Parameters\n",
      "     |      ----------\n",
      "     |      prop : str or `~matplotlib.font_manager.FontProperties`\n",
      "     |          The font properties to search for. This can be either a\n",
      "     |          `.FontProperties` object or a string defining a\n",
      "     |          `fontconfig patterns`_.\n",
      "     |      \n",
      "     |      fontext : {'ttf', 'afm'}, default: 'ttf'\n",
      "     |          The extension of the font file:\n",
      "     |      \n",
      "     |          - 'ttf': TrueType and OpenType fonts (.ttf, .ttc, .otf)\n",
      "     |          - 'afm': Adobe Font Metrics (.afm)\n",
      "     |      \n",
      "     |      directory : str, optional\n",
      "     |          If given, only search this directory and its subdirectories.\n",
      "     |      \n",
      "     |      fallback_to_default : bool\n",
      "     |          If True, will fall back to the default font family (usually\n",
      "     |          \"DejaVu Sans\" or \"Helvetica\") if the first lookup hard-fails.\n",
      "     |      \n",
      "     |      rebuild_if_missing : bool\n",
      "     |          Whether to rebuild the font cache and search again if the first\n",
      "     |          match appears to point to a nonexisting font (i.e., the font cache\n",
      "     |          contains outdated entries).\n",
      "     |      \n",
      "     |      Returns\n",
      "     |      -------\n",
      "     |      str\n",
      "     |          The filename of the best matching font.\n",
      "     |      \n",
      "     |      Notes\n",
      "     |      -----\n",
      "     |      This performs a nearest neighbor search.  Each font is given a\n",
      "     |      similarity score to the target font properties.  The first font with\n",
      "     |      the highest score is returned.  If no matches below a certain\n",
      "     |      threshold are found, the default font (usually DejaVu Sans) is\n",
      "     |      returned.\n",
      "     |      \n",
      "     |      The result is cached, so subsequent lookups don't have to\n",
      "     |      perform the O(n) nearest neighbor search.\n",
      "     |      \n",
      "     |      See the `W3C Cascading Style Sheet, Level 1\n",
      "     |      <http://www.w3.org/TR/1998/REC-CSS2-19980512/>`_ documentation\n",
      "     |      for a description of the font finding algorithm.\n",
      "     |      \n",
      "     |      .. _fontconfig patterns:\n",
      "     |         https://www.freedesktop.org/software/fontconfig/fontconfig-user.html\n",
      "     |  \n",
      "     |  get_default_weight(self)\n",
      "     |      Return the default font weight.\n",
      "     |  \n",
      "     |  get_font_names(self)\n",
      "     |      Return the list of available fonts.\n",
      "     |  \n",
      "     |  score_family(self, families, family2)\n",
      "     |      Return a match score between the list of font families in\n",
      "     |      *families* and the font family name *family2*.\n",
      "     |      \n",
      "     |      An exact match at the head of the list returns 0.0.\n",
      "     |      \n",
      "     |      A match further down the list will return between 0 and 1.\n",
      "     |      \n",
      "     |      No match will return 1.0.\n",
      "     |  \n",
      "     |  score_size(self, size1, size2)\n",
      "     |      Return a match score between *size1* and *size2*.\n",
      "     |      \n",
      "     |      If *size2* (the size specified in the font file) is 'scalable', this\n",
      "     |      function always returns 0.0, since any font size can be generated.\n",
      "     |      \n",
      "     |      Otherwise, the result is the absolute distance between *size1* and\n",
      "     |      *size2*, normalized so that the usual range of font sizes (6pt -\n",
      "     |      72pt) will lie between 0.0 and 1.0.\n",
      "     |  \n",
      "     |  score_stretch(self, stretch1, stretch2)\n",
      "     |      Return a match score between *stretch1* and *stretch2*.\n",
      "     |      \n",
      "     |      The result is the absolute value of the difference between the\n",
      "     |      CSS numeric values of *stretch1* and *stretch2*, normalized\n",
      "     |      between 0.0 and 1.0.\n",
      "     |  \n",
      "     |  score_style(self, style1, style2)\n",
      "     |      Return a match score between *style1* and *style2*.\n",
      "     |      \n",
      "     |      An exact match returns 0.0.\n",
      "     |      \n",
      "     |      A match between 'italic' and 'oblique' returns 0.1.\n",
      "     |      \n",
      "     |      No match returns 1.0.\n",
      "     |  \n",
      "     |  score_variant(self, variant1, variant2)\n",
      "     |      Return a match score between *variant1* and *variant2*.\n",
      "     |      \n",
      "     |      An exact match returns 0.0, otherwise 1.0.\n",
      "     |  \n",
      "     |  score_weight(self, weight1, weight2)\n",
      "     |      Return a match score between *weight1* and *weight2*.\n",
      "     |      \n",
      "     |      The result is 0.0 if both weight1 and weight 2 are given as strings\n",
      "     |      and have the same value.\n",
      "     |      \n",
      "     |      Otherwise, the result is the absolute value of the difference between\n",
      "     |      the CSS numeric values of *weight1* and *weight2*, normalized between\n",
      "     |      0.05 and 1.0.\n",
      "     |  \n",
      "     |  set_default_weight(self, weight)\n",
      "     |      Set the default font weight.  The initial value is 'normal'.\n",
      "     |  \n",
      "     |  ----------------------------------------------------------------------\n",
      "     |  Static methods defined here:\n",
      "     |  \n",
      "     |  get_default_size()\n",
      "     |      Return the default font size.\n",
      "     |  \n",
      "     |  ----------------------------------------------------------------------\n",
      "     |  Readonly properties defined here:\n",
      "     |  \n",
      "     |  defaultFont\n",
      "     |  \n",
      "     |  ----------------------------------------------------------------------\n",
      "     |  Data descriptors defined here:\n",
      "     |  \n",
      "     |  __dict__\n",
      "     |      dictionary for instance variables (if defined)\n",
      "     |  \n",
      "     |  __weakref__\n",
      "     |      list of weak references to the object (if defined)\n",
      "    \n",
      "    class FontProperties(builtins.object)\n",
      "     |  FontProperties(family=None, style=None, variant=None, weight=None, stretch=None, size=None, fname=None, math_fontfamily=None)\n",
      "     |  \n",
      "     |  A class for storing and manipulating font properties.\n",
      "     |  \n",
      "     |  The font properties are the six properties described in the\n",
      "     |  `W3C Cascading Style Sheet, Level 1\n",
      "     |  <http://www.w3.org/TR/1998/REC-CSS2-19980512/>`_ font\n",
      "     |  specification and *math_fontfamily* for math fonts:\n",
      "     |  \n",
      "     |  - family: A list of font names in decreasing order of priority.\n",
      "     |    The items may include a generic font family name, either 'sans-serif',\n",
      "     |    'serif', 'cursive', 'fantasy', or 'monospace'.  In that case, the actual\n",
      "     |    font to be used will be looked up from the associated rcParam during the\n",
      "     |    search process in `.findfont`. Default: :rc:`font.family`\n",
      "     |  \n",
      "     |  - style: Either 'normal', 'italic' or 'oblique'.\n",
      "     |    Default: :rc:`font.style`\n",
      "     |  \n",
      "     |  - variant: Either 'normal' or 'small-caps'.\n",
      "     |    Default: :rc:`font.variant`\n",
      "     |  \n",
      "     |  - stretch: A numeric value in the range 0-1000 or one of\n",
      "     |    'ultra-condensed', 'extra-condensed', 'condensed',\n",
      "     |    'semi-condensed', 'normal', 'semi-expanded', 'expanded',\n",
      "     |    'extra-expanded' or 'ultra-expanded'. Default: :rc:`font.stretch`\n",
      "     |  \n",
      "     |  - weight: A numeric value in the range 0-1000 or one of\n",
      "     |    'ultralight', 'light', 'normal', 'regular', 'book', 'medium',\n",
      "     |    'roman', 'semibold', 'demibold', 'demi', 'bold', 'heavy',\n",
      "     |    'extra bold', 'black'. Default: :rc:`font.weight`\n",
      "     |  \n",
      "     |  - size: Either a relative value of 'xx-small', 'x-small',\n",
      "     |    'small', 'medium', 'large', 'x-large', 'xx-large' or an\n",
      "     |    absolute font size, e.g., 10. Default: :rc:`font.size`\n",
      "     |  \n",
      "     |  - math_fontfamily: The family of fonts used to render math text.\n",
      "     |    Supported values are: 'dejavusans', 'dejavuserif', 'cm',\n",
      "     |    'stix', 'stixsans' and 'custom'. Default: :rc:`mathtext.fontset`\n",
      "     |  \n",
      "     |  Alternatively, a font may be specified using the absolute path to a font\n",
      "     |  file, by using the *fname* kwarg.  However, in this case, it is typically\n",
      "     |  simpler to just pass the path (as a `pathlib.Path`, not a `str`) to the\n",
      "     |  *font* kwarg of the `.Text` object.\n",
      "     |  \n",
      "     |  The preferred usage of font sizes is to use the relative values,\n",
      "     |  e.g.,  'large', instead of absolute font sizes, e.g., 12.  This\n",
      "     |  approach allows all text sizes to be made larger or smaller based\n",
      "     |  on the font manager's default font size.\n",
      "     |  \n",
      "     |  This class will also accept a fontconfig_ pattern_, if it is the only\n",
      "     |  argument provided.  This support does not depend on fontconfig; we are\n",
      "     |  merely borrowing its pattern syntax for use here.\n",
      "     |  \n",
      "     |  .. _fontconfig: https://www.freedesktop.org/wiki/Software/fontconfig/\n",
      "     |  .. _pattern:\n",
      "     |     https://www.freedesktop.org/software/fontconfig/fontconfig-user.html\n",
      "     |  \n",
      "     |  Note that Matplotlib's internal font manager and fontconfig use a\n",
      "     |  different algorithm to lookup fonts, so the results of the same pattern\n",
      "     |  may be different in Matplotlib than in other applications that use\n",
      "     |  fontconfig.\n",
      "     |  \n",
      "     |  Methods defined here:\n",
      "     |  \n",
      "     |  __eq__(self, other)\n",
      "     |      Return self==value.\n",
      "     |  \n",
      "     |  __hash__(self)\n",
      "     |      Return hash(self).\n",
      "     |  \n",
      "     |  __init__(self, family=None, style=None, variant=None, weight=None, stretch=None, size=None, fname=None, math_fontfamily=None)\n",
      "     |      Initialize self.  See help(type(self)) for accurate signature.\n",
      "     |  \n",
      "     |  __str__(self)\n",
      "     |      Return str(self).\n",
      "     |  \n",
      "     |  copy(self)\n",
      "     |      Return a copy of self.\n",
      "     |  \n",
      "     |  get_family(self)\n",
      "     |      Return a list of individual font family names or generic family names.\n",
      "     |      \n",
      "     |      The font families or generic font families (which will be resolved\n",
      "     |      from their respective rcParams when searching for a matching font) in\n",
      "     |      the order of preference.\n",
      "     |  \n",
      "     |  get_file(self)\n",
      "     |      Return the filename of the associated font.\n",
      "     |  \n",
      "     |  get_fontconfig_pattern(self)\n",
      "     |      Get a fontconfig_ pattern_ suitable for looking up the font as\n",
      "     |      specified with fontconfig's ``fc-match`` utility.\n",
      "     |      \n",
      "     |      This support does not depend on fontconfig; we are merely borrowing its\n",
      "     |      pattern syntax for use here.\n",
      "     |  \n",
      "     |  get_math_fontfamily(self)\n",
      "     |      Return the name of the font family used for math text.\n",
      "     |      \n",
      "     |      The default font is :rc:`mathtext.fontset`.\n",
      "     |  \n",
      "     |  get_name(self)\n",
      "     |      Return the name of the font that best matches the font properties.\n",
      "     |  \n",
      "     |  get_size(self)\n",
      "     |      Return the font size.\n",
      "     |  \n",
      "     |  get_size_in_points = get_size(self)\n",
      "     |  \n",
      "     |  get_slant = get_style(self)\n",
      "     |  \n",
      "     |  get_stretch(self)\n",
      "     |      Return the font stretch or width.  Options are: 'ultra-condensed',\n",
      "     |      'extra-condensed', 'condensed', 'semi-condensed', 'normal',\n",
      "     |      'semi-expanded', 'expanded', 'extra-expanded', 'ultra-expanded'.\n",
      "     |  \n",
      "     |  get_style(self)\n",
      "     |      Return the font style.  Values are: 'normal', 'italic' or 'oblique'.\n",
      "     |  \n",
      "     |  get_variant(self)\n",
      "     |      Return the font variant.  Values are: 'normal' or 'small-caps'.\n",
      "     |  \n",
      "     |  get_weight(self)\n",
      "     |      Set the font weight.  Options are: A numeric value in the\n",
      "     |      range 0-1000 or one of 'light', 'normal', 'regular', 'book',\n",
      "     |      'medium', 'roman', 'semibold', 'demibold', 'demi', 'bold',\n",
      "     |      'heavy', 'extra bold', 'black'\n",
      "     |  \n",
      "     |  set_family(self, family)\n",
      "     |      Change the font family.  Can be either an alias (generic name\n",
      "     |      is CSS parlance), such as: 'serif', 'sans-serif', 'cursive',\n",
      "     |      'fantasy', or 'monospace', a real font name or a list of real\n",
      "     |      font names.  Real font names are not supported when\n",
      "     |      :rc:`text.usetex` is `True`. Default: :rc:`font.family`\n",
      "     |  \n",
      "     |  set_file(self, file)\n",
      "     |      Set the filename of the fontfile to use.  In this case, all\n",
      "     |      other properties will be ignored.\n",
      "     |  \n",
      "     |  set_fontconfig_pattern(self, pattern)\n",
      "     |      Set the properties by parsing a fontconfig_ *pattern*.\n",
      "     |      \n",
      "     |      This support does not depend on fontconfig; we are merely borrowing its\n",
      "     |      pattern syntax for use here.\n",
      "     |  \n",
      "     |  set_math_fontfamily(self, fontfamily)\n",
      "     |      Set the font family for text in math mode.\n",
      "     |      \n",
      "     |      If not set explicitly, :rc:`mathtext.fontset` will be used.\n",
      "     |      \n",
      "     |      Parameters\n",
      "     |      ----------\n",
      "     |      fontfamily : str\n",
      "     |          The name of the font family.\n",
      "     |      \n",
      "     |          Available font families are defined in the\n",
      "     |          matplotlibrc.template file\n",
      "     |          :ref:`here <customizing-with-matplotlibrc-files>`\n",
      "     |      \n",
      "     |      See Also\n",
      "     |      --------\n",
      "     |      .text.Text.get_math_fontfamily\n",
      "     |  \n",
      "     |  set_name = set_family(self, family)\n",
      "     |  \n",
      "     |  set_size(self, size)\n",
      "     |      Set the font size.\n",
      "     |      \n",
      "     |      Parameters\n",
      "     |      ----------\n",
      "     |      size : float or {'xx-small', 'x-small', 'small', 'medium', 'large', 'x-large', 'xx-large'}, default: :rc:`font.size`\n",
      "     |          If a float, the font size in points. The string values denote\n",
      "     |          sizes relative to the default font size.\n",
      "     |  \n",
      "     |  set_slant = set_style(self, style)\n",
      "     |  \n",
      "     |  set_stretch(self, stretch)\n",
      "     |      Set the font stretch or width.\n",
      "     |      \n",
      "     |      Parameters\n",
      "     |      ----------\n",
      "     |      stretch : int or {'ultra-condensed', 'extra-condensed', 'condensed', 'semi-condensed', 'normal', 'semi-expanded', 'expanded', 'extra-expanded', 'ultra-expanded'}, default: :rc:`font.stretch`\n",
      "     |          If int, must be in the range  0-1000.\n",
      "     |  \n",
      "     |  set_style(self, style)\n",
      "     |      Set the font style.\n",
      "     |      \n",
      "     |      Parameters\n",
      "     |      ----------\n",
      "     |      style : {'normal', 'italic', 'oblique'}, default: :rc:`font.style`\n",
      "     |  \n",
      "     |  set_variant(self, variant)\n",
      "     |      Set the font variant.\n",
      "     |      \n",
      "     |      Parameters\n",
      "     |      ----------\n",
      "     |      variant : {'normal', 'small-caps'}, default: :rc:`font.variant`\n",
      "     |  \n",
      "     |  set_weight(self, weight)\n",
      "     |      Set the font weight.\n",
      "     |      \n",
      "     |      Parameters\n",
      "     |      ----------\n",
      "     |      weight : int or {'ultralight', 'light', 'normal', 'regular', 'book', 'medium', 'roman', 'semibold', 'demibold', 'demi', 'bold', 'heavy', 'extra bold', 'black'}, default: :rc:`font.weight`\n",
      "     |          If int, must be in the range  0-1000.\n",
      "     |  \n",
      "     |  ----------------------------------------------------------------------\n",
      "     |  Data descriptors defined here:\n",
      "     |  \n",
      "     |  __dict__\n",
      "     |      dictionary for instance variables (if defined)\n",
      "     |  \n",
      "     |  __weakref__\n",
      "     |      list of weak references to the object (if defined)\n",
      "     |  \n",
      "     |  ----------------------------------------------------------------------\n",
      "     |  Data and other attributes defined here:\n",
      "     |  \n",
      "     |  __slotnames__ = []\n",
      "\n",
      "FUNCTIONS\n",
      "    afmFontProperty(fontpath, font)\n",
      "        Extract information from an AFM font file.\n",
      "        \n",
      "        Parameters\n",
      "        ----------\n",
      "        font : AFM\n",
      "            The AFM font file from which information will be extracted.\n",
      "        \n",
      "        Returns\n",
      "        -------\n",
      "        `FontEntry`\n",
      "            The extracted font properties.\n",
      "    \n",
      "    findSystemFonts(fontpaths=None, fontext='ttf')\n",
      "        Search for fonts in the specified font paths.  If no paths are\n",
      "        given, will use a standard set of system paths, as well as the\n",
      "        list of fonts tracked by fontconfig if fontconfig is installed and\n",
      "        available.  A list of TrueType fonts are returned by default with\n",
      "        AFM fonts as an option.\n",
      "    \n",
      "    findfont(prop, fontext='ttf', directory=None, fallback_to_default=True, rebuild_if_missing=True) method of FontManager instance\n",
      "        Find a font that most closely matches the given font properties.\n",
      "        \n",
      "        Parameters\n",
      "        ----------\n",
      "        prop : str or `~matplotlib.font_manager.FontProperties`\n",
      "            The font properties to search for. This can be either a\n",
      "            `.FontProperties` object or a string defining a\n",
      "            `fontconfig patterns`_.\n",
      "        \n",
      "        fontext : {'ttf', 'afm'}, default: 'ttf'\n",
      "            The extension of the font file:\n",
      "        \n",
      "            - 'ttf': TrueType and OpenType fonts (.ttf, .ttc, .otf)\n",
      "            - 'afm': Adobe Font Metrics (.afm)\n",
      "        \n",
      "        directory : str, optional\n",
      "            If given, only search this directory and its subdirectories.\n",
      "        \n",
      "        fallback_to_default : bool\n",
      "            If True, will fall back to the default font family (usually\n",
      "            \"DejaVu Sans\" or \"Helvetica\") if the first lookup hard-fails.\n",
      "        \n",
      "        rebuild_if_missing : bool\n",
      "            Whether to rebuild the font cache and search again if the first\n",
      "            match appears to point to a nonexisting font (i.e., the font cache\n",
      "            contains outdated entries).\n",
      "        \n",
      "        Returns\n",
      "        -------\n",
      "        str\n",
      "            The filename of the best matching font.\n",
      "        \n",
      "        Notes\n",
      "        -----\n",
      "        This performs a nearest neighbor search.  Each font is given a\n",
      "        similarity score to the target font properties.  The first font with\n",
      "        the highest score is returned.  If no matches below a certain\n",
      "        threshold are found, the default font (usually DejaVu Sans) is\n",
      "        returned.\n",
      "        \n",
      "        The result is cached, so subsequent lookups don't have to\n",
      "        perform the O(n) nearest neighbor search.\n",
      "        \n",
      "        See the `W3C Cascading Style Sheet, Level 1\n",
      "        <http://www.w3.org/TR/1998/REC-CSS2-19980512/>`_ documentation\n",
      "        for a description of the font finding algorithm.\n",
      "        \n",
      "        .. _fontconfig patterns:\n",
      "           https://www.freedesktop.org/software/fontconfig/fontconfig-user.html\n",
      "    \n",
      "    get_font(font_filepaths, hinting_factor=None)\n",
      "        Get an `.ft2font.FT2Font` object given a list of file paths.\n",
      "        \n",
      "        Parameters\n",
      "        ----------\n",
      "        font_filepaths : Iterable[str, Path, bytes], str, Path, bytes\n",
      "            Relative or absolute paths to the font files to be used.\n",
      "        \n",
      "            If a single string, bytes, or `pathlib.Path`, then it will be treated\n",
      "            as a list with that entry only.\n",
      "        \n",
      "            If more than one filepath is passed, then the returned FT2Font object\n",
      "            will fall back through the fonts, in the order given, to find a needed\n",
      "            glyph.\n",
      "        \n",
      "        Returns\n",
      "        -------\n",
      "        `.ft2font.FT2Font`\n",
      "    \n",
      "    get_font_names() method of FontManager instance\n",
      "        Return the list of available fonts.\n",
      "    \n",
      "    get_fontext_synonyms(fontext)\n",
      "        Return a list of file extensions that are synonyms for\n",
      "        the given file extension *fileext*.\n",
      "    \n",
      "    is_opentype_cff_font(filename)\n",
      "        Return whether the given font is a Postscript Compact Font Format Font\n",
      "        embedded in an OpenType wrapper.  Used by the PostScript and PDF backends\n",
      "        that can not subset these fonts.\n",
      "    \n",
      "    json_dump(data, filename)\n",
      "        Dump `FontManager` *data* as JSON to the file named *filename*.\n",
      "        \n",
      "        See Also\n",
      "        --------\n",
      "        json_load\n",
      "        \n",
      "        Notes\n",
      "        -----\n",
      "        File paths that are children of the Matplotlib data path (typically, fonts\n",
      "        shipped with Matplotlib) are stored relative to that data path (to remain\n",
      "        valid across virtualenvs).\n",
      "        \n",
      "        This function temporarily locks the output file to prevent multiple\n",
      "        processes from overwriting one another's output.\n",
      "    \n",
      "    json_load(filename)\n",
      "        Load a `FontManager` from the JSON file named *filename*.\n",
      "        \n",
      "        See Also\n",
      "        --------\n",
      "        json_dump\n",
      "    \n",
      "    list_fonts(directory, extensions)\n",
      "        Return a list of all fonts matching any of the extensions, found\n",
      "        recursively under the directory.\n",
      "    \n",
      "    ttfFontProperty(font)\n",
      "        Extract information from a TrueType font file.\n",
      "        \n",
      "        Parameters\n",
      "        ----------\n",
      "        font : `.FT2Font`\n",
      "            The TrueType font file from which information will be extracted.\n",
      "        \n",
      "        Returns\n",
      "        -------\n",
      "        `FontEntry`\n",
      "            The extracted font properties.\n",
      "    \n",
      "    win32FontDirectory()\n",
      "        Return the user-specified font directory for Win32.  This is\n",
      "        looked up from the registry key ::\n",
      "        \n",
      "          \\\\HKEY_CURRENT_USER\\Software\\Microsoft\\Windows\\CurrentVersion\\Explorer\\Shell Folders\\Fonts\n",
      "        \n",
      "        If the key is not found, ``%WINDIR%\\Fonts`` will be returned.\n",
      "\n",
      "DATA\n",
      "    MSFolders = r'Software\\Microsoft\\Windows\\CurrentVersion\\Explorer\\Shell...\n",
      "    MSFontDirectories = [r'SOFTWARE\\Microsoft\\Windows NT\\CurrentVersion\\Fo...\n",
      "    MSUserFontDirectories = ['/home/stefanotroffa/AppData/Local/Microsoft/...\n",
      "    OSXFontDirectories = ['/Library/Fonts/', '/Network/Library/Fonts/', '/...\n",
      "    X11FontDirectories = ['/usr/X11R6/lib/X11/fonts/TTF/', '/usr/X11/lib/X...\n",
      "    fontManager = <matplotlib.font_manager.FontManager object>\n",
      "    font_family_aliases = {'cursive', 'fantasy', 'monospace', 'sans', 'san...\n",
      "    font_scalings = {'xx-small': 0.579, 'x-small': 0.694, 'small': 0.833, ...\n",
      "    stretch_dict = {'condensed': 300, 'expanded': 700, 'extended': 700, 'e...\n",
      "    weight_dict = {'black': 900, 'bold': 700, 'book': 400, 'demi': 600, 'd...\n",
      "\n",
      "FILE\n",
      "    /home/stefanotroffa/miniconda3/envs/TFQUANTUM/lib/python3.9/site-packages/matplotlib/font_manager.py\n",
      "\n",
      "\n"
     ]
    }
   ],
   "source": [
    "import matplotlib.font_manager\n",
    "help(matplotlib.font_manager)"
   ]
  },
  {
   "cell_type": "code",
   "execution_count": 79,
   "metadata": {
    "colab": {},
    "colab_type": "code",
    "execution": {
     "iopub.execute_input": "2023-03-21T11:34:50.317059Z",
     "iopub.status.busy": "2023-03-21T11:34:50.316407Z",
     "iopub.status.idle": "2023-03-21T11:34:50.359258Z",
     "shell.execute_reply": "2023-03-21T11:34:50.358605Z"
    },
    "id": "w3POmUEUojhe",
    "scrolled": false
   },
   "outputs": [
    {
     "name": "stderr",
     "output_type": "stream",
     "text": [
      "findfont: Font family 'Arial' not found.\n",
      "findfont: Font family 'Arial' not found.\n",
      "findfont: Font family 'Arial' not found.\n",
      "findfont: Font family 'Arial' not found.\n"
     ]
    },
    {
     "data": {
      "image/svg+xml": [
       "<svg xmlns=\"http://www.w3.org/2000/svg\" width=\"169.517734375\" height=\"100.0\"><line x1=\"34.7588671875\" x2=\"139.517734375\" y1=\"25.0\" y2=\"25.0\" stroke=\"#1967d2\" stroke-width=\"1\" /><line x1=\"34.7588671875\" x2=\"139.517734375\" y1=\"75.0\" y2=\"75.0\" stroke=\"#1967d2\" stroke-width=\"1\" /><rect x=\"10.0\" y=\"5.0\" width=\"49.517734375\" height=\"40\" stroke=\"black\" fill=\"white\" stroke-width=\"0\" /><text x=\"34.7588671875\" y=\"25.0\" dominant-baseline=\"middle\" text-anchor=\"middle\" font-size=\"14px\" font-family=\"Arial\">(2, 2): </text><rect x=\"10.0\" y=\"55.0\" width=\"49.517734375\" height=\"40\" stroke=\"black\" fill=\"white\" stroke-width=\"0\" /><text x=\"34.7588671875\" y=\"75.0\" dominant-baseline=\"middle\" text-anchor=\"middle\" font-size=\"14px\" font-family=\"Arial\">(3, 1): </text><rect x=\"79.517734375\" y=\"5.0\" width=\"40\" height=\"40\" stroke=\"black\" fill=\"white\" stroke-width=\"1\" /><text x=\"99.517734375\" y=\"25.0\" dominant-baseline=\"middle\" text-anchor=\"middle\" font-size=\"18px\" font-family=\"Arial\">X</text><rect x=\"79.517734375\" y=\"55.0\" width=\"40\" height=\"40\" stroke=\"black\" fill=\"white\" stroke-width=\"1\" /><text x=\"99.517734375\" y=\"75.0\" dominant-baseline=\"middle\" text-anchor=\"middle\" font-size=\"18px\" font-family=\"Arial\">X</text></svg>"
      ],
      "text/plain": [
       "<cirq.contrib.svg.svg.SVGCircuit at 0x7f917a112e50>"
      ]
     },
     "execution_count": 79,
     "metadata": {},
     "output_type": "execute_result"
    }
   ],
   "source": [
    "SVGCircuit(x_train_circ[0])"
   ]
  },
  {
   "cell_type": "markdown",
   "metadata": {
    "colab_type": "text",
    "id": "AEQMxCcBojhg"
   },
   "source": [
    "Compare this circuit to the indices where the image value exceeds the threshold:"
   ]
  },
  {
   "cell_type": "code",
   "execution_count": 14,
   "metadata": {
    "colab": {},
    "colab_type": "code",
    "execution": {
     "iopub.execute_input": "2023-03-21T11:34:50.362398Z",
     "iopub.status.busy": "2023-03-21T11:34:50.361823Z",
     "iopub.status.idle": "2023-03-21T11:34:50.367004Z",
     "shell.execute_reply": "2023-03-21T11:34:50.366356Z"
    },
    "id": "TBIsiXdtojhh"
   },
   "outputs": [
    {
     "data": {
      "text/plain": [
       "array([[2, 2],\n",
       "       [3, 1]])"
      ]
     },
     "execution_count": 14,
     "metadata": {},
     "output_type": "execute_result"
    }
   ],
   "source": [
    "bin_img = x_train_bin[0,:,:,0]\n",
    "indices = np.array(np.where(bin_img)).T\n",
    "indices"
   ]
  },
  {
   "cell_type": "markdown",
   "metadata": {
    "colab_type": "text",
    "id": "mWZ24w1Oojhk"
   },
   "source": [
    "Convert these `Cirq` circuits to tensors for `tfq`:"
   ]
  },
  {
   "cell_type": "code",
   "execution_count": 15,
   "metadata": {
    "colab": {},
    "colab_type": "code",
    "execution": {
     "iopub.execute_input": "2023-03-21T11:34:50.370120Z",
     "iopub.status.busy": "2023-03-21T11:34:50.369582Z",
     "iopub.status.idle": "2023-03-21T11:34:55.924172Z",
     "shell.execute_reply": "2023-03-21T11:34:55.923321Z"
    },
    "id": "IZStEMk4ojhk"
   },
   "outputs": [],
   "source": [
    "x_train_tfcirc = tfq.convert_to_tensor(x_train_circ)\n",
    "x_test_tfcirc = tfq.convert_to_tensor(x_test_circ)"
   ]
  },
  {
   "cell_type": "markdown",
   "metadata": {
    "colab_type": "text",
    "id": "4USiqeOqGL67"
   },
   "source": [
    "## 2. Quantum neural network\n",
    "\n",
    "There is little guidance for a quantum circuit structure that classifies images. Since the classification is based on the expectation of the readout qubit, <a href=\"https://arxiv.org/pdf/1802.06002.pdf\" class=\"external\">Farhi et al.</a> propose using two qubit gates, with the readout qubit always acted upon. This is similar in some ways to running small a <a href=\"https://arxiv.org/abs/1511.06464\" class=\"external\">Unitary RNN</a> across the pixels."
   ]
  },
  {
   "cell_type": "markdown",
   "metadata": {},
   "source": [
    "The following block contains a method to extract an adjacency matrix from the pixel values in the reshape image"
   ]
  },
  {
   "cell_type": "code",
   "execution_count": 16,
   "metadata": {},
   "outputs": [
    {
     "name": "stdout",
     "output_type": "stream",
     "text": [
      "10338\n",
      "<class 'scipy.sparse._coo.coo_matrix'>\n",
      "(10338, 16, 16) <class 'numpy.ndarray'>\n",
      "16 (16, 16)\n",
      "(1968, 16, 16)\n"
     ]
    }
   ],
   "source": [
    "import sklearn\n",
    "from sklearn import feature_extraction\n",
    "from scipy.sparse import coo_matrix, vstack\n",
    "\n",
    "#help(sklearn)\n",
    "end=len(x_train_bin)\n",
    "\n",
    "adj_train=[sklearn.feature_extraction.image.img_to_graph(x) for x in x_train_bin[:end]]\n",
    "adj_test =[sklearn.feature_extraction.image.img_to_graph(x) for x in x_test_bin[:len(x_test_bin)]]\n",
    "adj_arrays=vstack(adj_train).toarray()\n",
    "adj_new_test= vstack(adj_test).toarray().reshape(len(x_test_bin), rescale_l**2, rescale_l**2)\n",
    "print(len(adj_train))\n",
    "print(type(adj_train[0]))\n",
    "#print(adj_arrays.reshape(end, rescale_l**2, rescale_l**2))\n",
    "adj_new= adj_arrays.reshape(end, rescale_l**2, rescale_l**2)\n",
    "print(adj_new.shape,type(adj_new))\n",
    "print(len(adj_new[2]), adj_new[2].shape)\n",
    "print(adj_new_test.shape)\n"
   ]
  },
  {
   "cell_type": "markdown",
   "metadata": {},
   "source": [
    "###### In the following block we encoded the input by forcing the graph structure in the circuits."
   ]
  },
  {
   "cell_type": "code",
   "execution_count": 17,
   "metadata": {},
   "outputs": [],
   "source": [
    "def convert_to_graph(image,adj_new,index):\n",
    "    \"\"\"Encode truncated classical image into quantum datapoint.\"\"\"\n",
    "    values = np.ndarray.flatten(image)\n",
    "    qubits = cirq.GridQubit.rect(rescale_l, rescale_l)\n",
    "    circuit = cirq.Circuit()\n",
    "    for i, value in enumerate(values):\n",
    "        if value:\n",
    "            circuit.append(cirq.X(qubits[i]))\n",
    "            \n",
    "    for qubit in range(rescale_l**2):\n",
    "        circuit.append(cirq.H(qubits[qubit]))     \n",
    "        \n",
    "    for row in range(len(adj_new[index])):\n",
    "        for col in range(row):\n",
    "            if adj_new[index][row][col]>0:\n",
    "                rot= np.pi/8\n",
    "                rot=float(rot)\n",
    "                circuit.append(cirq.ZZ(qubits[row], qubits[col])**rot)\n",
    "    values = np.ndarray.flatten(image)\n",
    "    \n",
    "    for qubit in range(rescale_l**2):\n",
    "        # Hadamard gate on wire qubit\n",
    "        circuit.append(cirq.H(qubits[qubit]))\n",
    "\n",
    "    for row in range(len(adj_new[index])):\n",
    "        for col in range(row):\n",
    "            if adj_new[index][row][col] > 0:\n",
    "                rot= np.pi/8\n",
    "                rot=float(rot)\n",
    "\n",
    "                # IsingZZ gate on wires row and col\n",
    "                circuit.append(cirq.ZZ(qubits[row], qubits[col])**rot)\n",
    "   \n",
    "    for qubit in range(rescale_l**2):\n",
    "        # Hadamard gate on wire qubit\n",
    "        circuit.append(cirq.H(qubits[qubit]))\n",
    "    \n",
    "    return circuit\n",
    "\n",
    "\n",
    "\n"
   ]
  },
  {
   "cell_type": "code",
   "execution_count": 18,
   "metadata": {},
   "outputs": [],
   "source": [
    "index=0\n",
    "x_test_circ_g=[]  \n",
    "for x in x_test_bin:\n",
    "    #print(index)\n",
    "    x_test_circ_g.append(convert_to_graph(x,adj_new_test, index))\n",
    "    index+=1"
   ]
  },
  {
   "cell_type": "code",
   "execution_count": 19,
   "metadata": {},
   "outputs": [],
   "source": [
    "x_test_tfcirc_g = tfq.convert_to_tensor(x_test_circ_g)\n"
   ]
  },
  {
   "cell_type": "code",
   "execution_count": 20,
   "metadata": {},
   "outputs": [],
   "source": [
    "index=0\n",
    "x_train_circ_g=[]  \n",
    "for x in x_train_bin:\n",
    "    #print(index)\n",
    "    x_train_circ_g.append(convert_to_graph(x,adj_new, index))\n",
    "    index+=1\n"
   ]
  },
  {
   "cell_type": "code",
   "execution_count": 21,
   "metadata": {},
   "outputs": [
    {
     "name": "stdout",
     "output_type": "stream",
     "text": [
      "1968 1968\n"
     ]
    }
   ],
   "source": [
    "print(len(x_test_circ_g), len(x_test_circ))"
   ]
  },
  {
   "cell_type": "code",
   "execution_count": 22,
   "metadata": {},
   "outputs": [
    {
     "name": "stdout",
     "output_type": "stream",
     "text": [
      "10338 10338\n"
     ]
    }
   ],
   "source": [
    "print(len(x_train_circ_g), len(x_train_circ))"
   ]
  },
  {
   "cell_type": "code",
   "execution_count": 25,
   "metadata": {},
   "outputs": [],
   "source": [
    "x_train_tfcirc_g = tfq.convert_to_tensor(x_train_circ_g)"
   ]
  },
  {
   "cell_type": "code",
   "execution_count": 26,
   "metadata": {},
   "outputs": [
    {
     "name": "stdout",
     "output_type": "stream",
     "text": [
      "                   ┌─────────┐              ┌────────────────┐   ┌────────────────┐                                    ┌────────────────┐   ┌────────────────┐\n",
      "(0, 0): ───H───H────H───────────────────────────────────────────────────────────────────────────────────────────────────────────────────────────────────────────────────────────\n",
      "\n",
      "(0, 1): ───H───H────H───────────────────────────────────────────────────────────────────────────────────────────────────────────────────────────────────────────────────────────\n",
      "\n",
      "(0, 2): ───H───H────H───────────────────────────────────────────────────────────────────────────────────────────────────────────────────────────────────────────────────────────\n",
      "\n",
      "(0, 3): ───H───H────H───────────────────────────────────────────────────────────────────────────────────────────────────────────────────────────────────────────────────────────\n",
      "\n",
      "(1, 0): ───H───H────H───────────────────────────────────────────────────────────────────────────────────────────────────────────────────────────────────────────────────────────\n",
      "\n",
      "(1, 1): ───H───H────H───────────────────────────────────────────────────────────────────────────────────────────────────────────────────────────────────────────────────────────\n",
      "\n",
      "(1, 2): ───H────────ZZ───────────H───────────────────────────────────────────────────────────────ZZ─────────H───────────────────────────────────────────────────────────────────\n",
      "                    │                                                                            │\n",
      "(1, 3): ───H───H────┼───────H────────────────────────────────────────────────────────────────────┼──────────────────────────────────────────────────────────────────────────────\n",
      "                    │                                                                            │\n",
      "(2, 0): ───H───H────┼───────H────────────────────────────────────────────────────────────────────┼──────────────────────────────────────────────────────────────────────────────\n",
      "                    │                                                                            │\n",
      "(2, 1): ───H────────┼────────────ZZ──────────────────ZZ───────────H──────────────────────────────┼──────────ZZ──────────────────ZZ───────────H──────────────────────────────────\n",
      "                    │            │                   │                                           │          │                   │\n",
      "(2, 2): ───X───H────ZZ^0.393─────ZZ^0.393────ZZ──────┼────────────────────ZZ──────────H──────────ZZ^0.393───ZZ^0.393────ZZ──────┼────────────────────ZZ──────────H──────────────\n",
      "                                             │       │                    │                                             │       │                    │\n",
      "(2, 3): ───H─────────────────────────────────ZZ^0.393┼────────────H───────┼─────────────────────────────────────────────ZZ^0.393┼────────────H───────┼──────────────────────────\n",
      "                                                     │                    │                                                     │                    │\n",
      "(3, 0): ───H─────────────────────────────────────────┼────────────ZZ──────┼───────────H─────────────────────────────────────────┼────────────ZZ──────┼───────────H──────────────\n",
      "                                                     │            │       │                                                     │            │       │\n",
      "(3, 1): ───X───H─────────────────────────────────────ZZ^0.393─────ZZ^0.393┼───────────ZZ─────────H──────────────────────────────ZZ^0.393─────ZZ^0.393┼───────────ZZ─────────H───\n",
      "                                                                          │           │                                                              │           │\n",
      "(3, 2): ───H──────────────────────────────────────────────────────────────ZZ^0.393────ZZ^0.393───H───────────────────────────────────────────────────ZZ^0.393────ZZ^0.393───H───\n",
      "\n",
      "(3, 3): ───H───H────H───────────────────────────────────────────────────────────────────────────────────────────────────────────────────────────────────────────────────────────\n",
      "                   └─────────┘              └────────────────┘   └────────────────┘                                    └────────────────┘   └────────────────┘\n"
     ]
    }
   ],
   "source": [
    "print(x_train_circ_g[0])\n",
    "\n"
   ]
  },
  {
   "cell_type": "markdown",
   "metadata": {
    "colab_type": "text",
    "id": "knIzawEeojho"
   },
   "source": [
    "### 2.1 Build the model circuit\n",
    "\n",
    "This following example shows this layered approach. Each layer uses *n* instances of the same gate, with each of the data qubits acting on the readout qubit.\n",
    "\n",
    "Start with a simple class that will add a layer of these gates to a circuit:"
   ]
  },
  {
   "cell_type": "code",
   "execution_count": 27,
   "metadata": {
    "colab": {},
    "colab_type": "code",
    "execution": {
     "iopub.execute_input": "2023-03-21T11:34:55.928697Z",
     "iopub.status.busy": "2023-03-21T11:34:55.928012Z",
     "iopub.status.idle": "2023-03-21T11:34:55.932882Z",
     "shell.execute_reply": "2023-03-21T11:34:55.932236Z"
    },
    "id": "-hjxxgU5ojho"
   },
   "outputs": [],
   "source": [
    "class CircuitLayerBuilder():\n",
    "    def __init__(self, data_qubits, readout):\n",
    "        self.data_qubits = data_qubits\n",
    "        self.readout = readout\n",
    "    \n",
    "    def add_layer(self, circuit, gate, prefix):\n",
    "        for i, qubit in enumerate(self.data_qubits):\n",
    "            symbol = sympy.Symbol(prefix + '-' + str(i))\n",
    "            circuit.append(gate(qubit, self.readout)**symbol)"
   ]
  },
  {
   "cell_type": "code",
   "execution_count": 28,
   "metadata": {},
   "outputs": [],
   "source": [
    "class CircuitLayerBuilder_graph():\n",
    "    def __init__(self, data_qubits, readout):\n",
    "        self.data_qubits = data_qubits\n",
    "        self.readout = readout\n",
    "    \n",
    "    def add_layer(self, circuit, gate, prefix):\n",
    "        for i, qubit in enumerate(self.data_qubits):\n",
    "            \n",
    "            circuit.append(cirq.H(qubit))  \n",
    "            \n",
    "        for i, qubit in enumerate(self.data_qubits):\n",
    "            symbol = sympy.Symbol(prefix + '-' + str(i))\n",
    "            circuit.append(gate(qubit, self.readout)**symbol)\n",
    "        for i, qubit in enumerate(self.data_qubits):\n",
    "            \n",
    "            circuit.append(cirq.H(qubit))  \n",
    "            "
   ]
  },
  {
   "cell_type": "markdown",
   "metadata": {
    "colab_type": "text",
    "id": "Sjo5hANFojhr"
   },
   "source": [
    "Build an example circuit layer to see how it looks:"
   ]
  },
  {
   "cell_type": "code",
   "execution_count": 29,
   "metadata": {
    "colab": {},
    "colab_type": "code",
    "execution": {
     "iopub.execute_input": "2023-03-21T11:34:55.935947Z",
     "iopub.status.busy": "2023-03-21T11:34:55.935423Z",
     "iopub.status.idle": "2023-03-21T11:34:56.068217Z",
     "shell.execute_reply": "2023-03-21T11:34:56.067561Z"
    },
    "id": "SzXWOpUGojhs"
   },
   "outputs": [
    {
     "name": "stderr",
     "output_type": "stream",
     "text": [
      "findfont: Font family 'Arial' not found.\n",
      "findfont: Font family 'Arial' not found.\n",
      "findfont: Font family 'Arial' not found.\n",
      "findfont: Font family 'Arial' not found.\n",
      "findfont: Font family 'Arial' not found.\n",
      "findfont: Font family 'Arial' not found.\n",
      "findfont: Font family 'Arial' not found.\n",
      "findfont: Font family 'Arial' not found.\n",
      "findfont: Font family 'Arial' not found.\n",
      "findfont: Font family 'Arial' not found.\n",
      "findfont: Font family 'Arial' not found.\n",
      "findfont: Font family 'Arial' not found.\n",
      "findfont: Font family 'Arial' not found.\n"
     ]
    },
    {
     "data": {
      "image/svg+xml": [
       "<svg xmlns=\"http://www.w3.org/2000/svg\" width=\"522.59953125\" height=\"250.0\"><line x1=\"39.810625\" x2=\"492.59953125000004\" y1=\"25.0\" y2=\"25.0\" stroke=\"#1967d2\" stroke-width=\"1\" /><line x1=\"39.810625\" x2=\"492.59953125000004\" y1=\"75.0\" y2=\"75.0\" stroke=\"#1967d2\" stroke-width=\"1\" /><line x1=\"39.810625\" x2=\"492.59953125000004\" y1=\"125.0\" y2=\"125.0\" stroke=\"#1967d2\" stroke-width=\"1\" /><line x1=\"39.810625\" x2=\"492.59953125000004\" y1=\"175.0\" y2=\"175.0\" stroke=\"#1967d2\" stroke-width=\"1\" /><line x1=\"39.810625\" x2=\"492.59953125000004\" y1=\"225.0\" y2=\"225.0\" stroke=\"#1967d2\" stroke-width=\"1\" /><line x1=\"129.99353515625\" x2=\"129.99353515625\" y1=\"25.0\" y2=\"75.0\" stroke=\"black\" stroke-width=\"3\" /><line x1=\"230.73810546875004\" x2=\"230.73810546875004\" y1=\"25.0\" y2=\"125.0\" stroke=\"black\" stroke-width=\"3\" /><line x1=\"331.48267578125007\" x2=\"331.48267578125007\" y1=\"25.0\" y2=\"175.0\" stroke=\"black\" stroke-width=\"3\" /><line x1=\"432.22724609375007\" x2=\"432.22724609375007\" y1=\"25.0\" y2=\"225.0\" stroke=\"black\" stroke-width=\"3\" /><rect x=\"10.0\" y=\"5.0\" width=\"59.62125\" height=\"40\" stroke=\"black\" fill=\"white\" stroke-width=\"0\" /><text x=\"39.810625\" y=\"25.0\" dominant-baseline=\"middle\" text-anchor=\"middle\" font-size=\"14px\" font-family=\"Arial\">(-1, -1): </text><rect x=\"10.0\" y=\"55.0\" width=\"59.62125\" height=\"40\" stroke=\"black\" fill=\"white\" stroke-width=\"0\" /><text x=\"39.810625\" y=\"75.0\" dominant-baseline=\"middle\" text-anchor=\"middle\" font-size=\"14px\" font-family=\"Arial\">(0, 0): </text><rect x=\"10.0\" y=\"105.0\" width=\"59.62125\" height=\"40\" stroke=\"black\" fill=\"white\" stroke-width=\"0\" /><text x=\"39.810625\" y=\"125.0\" dominant-baseline=\"middle\" text-anchor=\"middle\" font-size=\"14px\" font-family=\"Arial\">(1, 0): </text><rect x=\"10.0\" y=\"155.0\" width=\"59.62125\" height=\"40\" stroke=\"black\" fill=\"white\" stroke-width=\"0\" /><text x=\"39.810625\" y=\"175.0\" dominant-baseline=\"middle\" text-anchor=\"middle\" font-size=\"14px\" font-family=\"Arial\">(2, 0): </text><rect x=\"10.0\" y=\"205.0\" width=\"59.62125\" height=\"40\" stroke=\"black\" fill=\"white\" stroke-width=\"0\" /><text x=\"39.810625\" y=\"225.0\" dominant-baseline=\"middle\" text-anchor=\"middle\" font-size=\"14px\" font-family=\"Arial\">(3, 0): </text><rect x=\"89.62125\" y=\"55.0\" width=\"80.74457031250002\" height=\"40\" stroke=\"black\" fill=\"white\" stroke-width=\"1\" /><text x=\"129.99353515625\" y=\"75.0\" dominant-baseline=\"middle\" text-anchor=\"middle\" font-size=\"14px\" font-family=\"Arial\">XX^(xx-0)</text><rect x=\"89.62125\" y=\"5.0\" width=\"80.74457031250002\" height=\"40\" stroke=\"black\" fill=\"white\" stroke-width=\"1\" /><text x=\"129.99353515625\" y=\"25.0\" dominant-baseline=\"middle\" text-anchor=\"middle\" font-size=\"14px\" font-family=\"Arial\">XX</text><rect x=\"190.36582031250003\" y=\"105.0\" width=\"80.74457031250002\" height=\"40\" stroke=\"black\" fill=\"white\" stroke-width=\"1\" /><text x=\"230.73810546875004\" y=\"125.0\" dominant-baseline=\"middle\" text-anchor=\"middle\" font-size=\"14px\" font-family=\"Arial\">XX^(xx-1)</text><rect x=\"190.36582031250003\" y=\"5.0\" width=\"80.74457031250002\" height=\"40\" stroke=\"black\" fill=\"white\" stroke-width=\"1\" /><text x=\"230.73810546875004\" y=\"25.0\" dominant-baseline=\"middle\" text-anchor=\"middle\" font-size=\"14px\" font-family=\"Arial\">XX</text><rect x=\"291.11039062500004\" y=\"155.0\" width=\"80.74457031250002\" height=\"40\" stroke=\"black\" fill=\"white\" stroke-width=\"1\" /><text x=\"331.48267578125007\" y=\"175.0\" dominant-baseline=\"middle\" text-anchor=\"middle\" font-size=\"14px\" font-family=\"Arial\">XX^(xx-2)</text><rect x=\"291.11039062500004\" y=\"5.0\" width=\"80.74457031250002\" height=\"40\" stroke=\"black\" fill=\"white\" stroke-width=\"1\" /><text x=\"331.48267578125007\" y=\"25.0\" dominant-baseline=\"middle\" text-anchor=\"middle\" font-size=\"14px\" font-family=\"Arial\">XX</text><rect x=\"391.85496093750004\" y=\"205.0\" width=\"80.74457031250002\" height=\"40\" stroke=\"black\" fill=\"white\" stroke-width=\"1\" /><text x=\"432.22724609375007\" y=\"225.0\" dominant-baseline=\"middle\" text-anchor=\"middle\" font-size=\"14px\" font-family=\"Arial\">XX^(xx-3)</text><rect x=\"391.85496093750004\" y=\"5.0\" width=\"80.74457031250002\" height=\"40\" stroke=\"black\" fill=\"white\" stroke-width=\"1\" /><text x=\"432.22724609375007\" y=\"25.0\" dominant-baseline=\"middle\" text-anchor=\"middle\" font-size=\"14px\" font-family=\"Arial\">XX</text></svg>"
      ],
      "text/plain": [
       "<cirq.contrib.svg.svg.SVGCircuit at 0x7f917c22ba00>"
      ]
     },
     "execution_count": 29,
     "metadata": {},
     "output_type": "execute_result"
    }
   ],
   "source": [
    "demo_builder = CircuitLayerBuilder(data_qubits = cirq.GridQubit.rect(4,1),\n",
    "                                   readout=cirq.GridQubit(-1,-1))\n",
    "\n",
    "circuit = cirq.Circuit()\n",
    "demo_builder.add_layer(circuit, gate = cirq.XX, prefix='xx')\n",
    "SVGCircuit(circuit)"
   ]
  },
  {
   "cell_type": "code",
   "execution_count": 30,
   "metadata": {},
   "outputs": [
    {
     "name": "stderr",
     "output_type": "stream",
     "text": [
      "findfont: Font family 'Arial' not found.\n",
      "findfont: Font family 'Arial' not found.\n",
      "findfont: Font family 'Arial' not found.\n",
      "findfont: Font family 'Arial' not found.\n",
      "findfont: Font family 'Arial' not found.\n",
      "findfont: Font family 'Arial' not found.\n",
      "findfont: Font family 'Arial' not found.\n",
      "findfont: Font family 'Arial' not found.\n",
      "findfont: Font family 'Arial' not found.\n",
      "findfont: Font family 'Arial' not found.\n",
      "findfont: Font family 'Arial' not found.\n",
      "findfont: Font family 'Arial' not found.\n",
      "findfont: Font family 'Arial' not found.\n",
      "findfont: Font family 'Arial' not found.\n",
      "findfont: Font family 'Arial' not found.\n",
      "findfont: Font family 'Arial' not found.\n",
      "findfont: Font family 'Arial' not found.\n",
      "findfont: Font family 'Arial' not found.\n",
      "findfont: Font family 'Arial' not found.\n",
      "findfont: Font family 'Arial' not found.\n",
      "findfont: Font family 'Arial' not found.\n"
     ]
    },
    {
     "data": {
      "image/svg+xml": [
       "<svg xmlns=\"http://www.w3.org/2000/svg\" width=\"762.59953125\" height=\"290.0\"><line x1=\"39.810625\" x2=\"732.59953125\" y1=\"45.0\" y2=\"45.0\" stroke=\"#1967d2\" stroke-width=\"1\" /><line x1=\"39.810625\" x2=\"732.59953125\" y1=\"95.0\" y2=\"95.0\" stroke=\"#1967d2\" stroke-width=\"1\" /><line x1=\"39.810625\" x2=\"732.59953125\" y1=\"145.0\" y2=\"145.0\" stroke=\"#1967d2\" stroke-width=\"1\" /><line x1=\"39.810625\" x2=\"732.59953125\" y1=\"195.0\" y2=\"195.0\" stroke=\"#1967d2\" stroke-width=\"1\" /><line x1=\"39.810625\" x2=\"732.59953125\" y1=\"245.0\" y2=\"245.0\" stroke=\"#1967d2\" stroke-width=\"1\" /><line x1=\"521.8549609375\" x2=\"652.59953125\" y1=\"5.0\" y2=\"5.0\" stroke=\"black\" stroke-width=\"1\" /><line x1=\"521.8549609375\" x2=\"652.59953125\" y1=\"285.0\" y2=\"285.0\" stroke=\"black\" stroke-width=\"1\" /><line x1=\"381.11039062500004\" x2=\"511.85496093750004\" y1=\"5.0\" y2=\"5.0\" stroke=\"black\" stroke-width=\"1\" /><line x1=\"381.11039062500004\" x2=\"511.85496093750004\" y1=\"285.0\" y2=\"285.0\" stroke=\"black\" stroke-width=\"1\" /><line x1=\"240.36582031250003\" x2=\"371.11039062500004\" y1=\"5.0\" y2=\"5.0\" stroke=\"black\" stroke-width=\"1\" /><line x1=\"240.36582031250003\" x2=\"371.11039062500004\" y1=\"285.0\" y2=\"285.0\" stroke=\"black\" stroke-width=\"1\" /><line x1=\"189.99353515625\" x2=\"189.99353515625\" y1=\"45.0\" y2=\"95.0\" stroke=\"black\" stroke-width=\"3\" /><line x1=\"280.73810546875006\" x2=\"280.73810546875006\" y1=\"45.0\" y2=\"145.0\" stroke=\"black\" stroke-width=\"3\" /><line x1=\"421.48267578125007\" x2=\"421.48267578125007\" y1=\"45.0\" y2=\"195.0\" stroke=\"black\" stroke-width=\"3\" /><line x1=\"562.22724609375\" x2=\"562.22724609375\" y1=\"45.0\" y2=\"245.0\" stroke=\"black\" stroke-width=\"3\" /><line x1=\"521.8549609375\" x2=\"521.8549609375\" y1=\"5.0\" y2=\"15.0\" stroke=\"black\" stroke-width=\"3\" /><line x1=\"652.59953125\" x2=\"652.59953125\" y1=\"5.0\" y2=\"15.0\" stroke=\"black\" stroke-width=\"3\" /><line x1=\"521.8549609375\" x2=\"521.8549609375\" y1=\"275.0\" y2=\"285.0\" stroke=\"black\" stroke-width=\"3\" /><line x1=\"652.59953125\" x2=\"652.59953125\" y1=\"275.0\" y2=\"285.0\" stroke=\"black\" stroke-width=\"3\" /><line x1=\"381.11039062500004\" x2=\"381.11039062500004\" y1=\"5.0\" y2=\"15.0\" stroke=\"black\" stroke-width=\"3\" /><line x1=\"511.85496093750004\" x2=\"511.85496093750004\" y1=\"5.0\" y2=\"15.0\" stroke=\"black\" stroke-width=\"3\" /><line x1=\"381.11039062500004\" x2=\"381.11039062500004\" y1=\"275.0\" y2=\"285.0\" stroke=\"black\" stroke-width=\"3\" /><line x1=\"511.85496093750004\" x2=\"511.85496093750004\" y1=\"275.0\" y2=\"285.0\" stroke=\"black\" stroke-width=\"3\" /><line x1=\"240.36582031250003\" x2=\"240.36582031250003\" y1=\"5.0\" y2=\"15.0\" stroke=\"black\" stroke-width=\"3\" /><line x1=\"371.11039062500004\" x2=\"371.11039062500004\" y1=\"5.0\" y2=\"15.0\" stroke=\"black\" stroke-width=\"3\" /><line x1=\"240.36582031250003\" x2=\"240.36582031250003\" y1=\"275.0\" y2=\"285.0\" stroke=\"black\" stroke-width=\"3\" /><line x1=\"371.11039062500004\" x2=\"371.11039062500004\" y1=\"275.0\" y2=\"285.0\" stroke=\"black\" stroke-width=\"3\" /><rect x=\"10.0\" y=\"25.0\" width=\"59.62125\" height=\"40\" stroke=\"black\" fill=\"white\" stroke-width=\"0\" /><text x=\"39.810625\" y=\"45.0\" dominant-baseline=\"middle\" text-anchor=\"middle\" font-size=\"14px\" font-family=\"Arial\">(-1, -1): </text><rect x=\"10.0\" y=\"75.0\" width=\"59.62125\" height=\"40\" stroke=\"black\" fill=\"white\" stroke-width=\"0\" /><text x=\"39.810625\" y=\"95.0\" dominant-baseline=\"middle\" text-anchor=\"middle\" font-size=\"14px\" font-family=\"Arial\">(0, 0): </text><rect x=\"10.0\" y=\"125.0\" width=\"59.62125\" height=\"40\" stroke=\"black\" fill=\"white\" stroke-width=\"0\" /><text x=\"39.810625\" y=\"145.0\" dominant-baseline=\"middle\" text-anchor=\"middle\" font-size=\"14px\" font-family=\"Arial\">(1, 0): </text><rect x=\"10.0\" y=\"175.0\" width=\"59.62125\" height=\"40\" stroke=\"black\" fill=\"white\" stroke-width=\"0\" /><text x=\"39.810625\" y=\"195.0\" dominant-baseline=\"middle\" text-anchor=\"middle\" font-size=\"14px\" font-family=\"Arial\">(2, 0): </text><rect x=\"10.0\" y=\"225.0\" width=\"59.62125\" height=\"40\" stroke=\"black\" fill=\"white\" stroke-width=\"0\" /><text x=\"39.810625\" y=\"245.0\" dominant-baseline=\"middle\" text-anchor=\"middle\" font-size=\"14px\" font-family=\"Arial\">(3, 0): </text><rect x=\"89.62125\" y=\"75.0\" width=\"40\" height=\"40\" stroke=\"black\" fill=\"white\" stroke-width=\"1\" /><text x=\"109.62125\" y=\"95.0\" dominant-baseline=\"middle\" text-anchor=\"middle\" font-size=\"18px\" font-family=\"Arial\">H</text><rect x=\"89.62125\" y=\"125.0\" width=\"40\" height=\"40\" stroke=\"black\" fill=\"white\" stroke-width=\"1\" /><text x=\"109.62125\" y=\"145.0\" dominant-baseline=\"middle\" text-anchor=\"middle\" font-size=\"18px\" font-family=\"Arial\">H</text><rect x=\"89.62125\" y=\"175.0\" width=\"40\" height=\"40\" stroke=\"black\" fill=\"white\" stroke-width=\"1\" /><text x=\"109.62125\" y=\"195.0\" dominant-baseline=\"middle\" text-anchor=\"middle\" font-size=\"18px\" font-family=\"Arial\">H</text><rect x=\"89.62125\" y=\"225.0\" width=\"40\" height=\"40\" stroke=\"black\" fill=\"white\" stroke-width=\"1\" /><text x=\"109.62125\" y=\"245.0\" dominant-baseline=\"middle\" text-anchor=\"middle\" font-size=\"18px\" font-family=\"Arial\">H</text><rect x=\"149.62125\" y=\"75.0\" width=\"80.74457031250002\" height=\"40\" stroke=\"black\" fill=\"white\" stroke-width=\"1\" /><text x=\"189.99353515625\" y=\"95.0\" dominant-baseline=\"middle\" text-anchor=\"middle\" font-size=\"14px\" font-family=\"Arial\">XX^(xx-0)</text><rect x=\"149.62125\" y=\"25.0\" width=\"80.74457031250002\" height=\"40\" stroke=\"black\" fill=\"white\" stroke-width=\"1\" /><text x=\"189.99353515625\" y=\"45.0\" dominant-baseline=\"middle\" text-anchor=\"middle\" font-size=\"14px\" font-family=\"Arial\">XX</text><rect x=\"240.36582031250006\" y=\"125.0\" width=\"80.74457031250002\" height=\"40\" stroke=\"black\" fill=\"white\" stroke-width=\"1\" /><text x=\"280.73810546875006\" y=\"145.0\" dominant-baseline=\"middle\" text-anchor=\"middle\" font-size=\"14px\" font-family=\"Arial\">XX^(xx-1)</text><rect x=\"240.36582031250006\" y=\"25.0\" width=\"80.74457031250002\" height=\"40\" stroke=\"black\" fill=\"white\" stroke-width=\"1\" /><text x=\"280.73810546875006\" y=\"45.0\" dominant-baseline=\"middle\" text-anchor=\"middle\" font-size=\"14px\" font-family=\"Arial\">XX</text><rect x=\"321.11039062500004\" y=\"75.0\" width=\"40\" height=\"40\" stroke=\"black\" fill=\"white\" stroke-width=\"1\" /><text x=\"341.11039062500004\" y=\"95.0\" dominant-baseline=\"middle\" text-anchor=\"middle\" font-size=\"18px\" font-family=\"Arial\">H</text><rect x=\"381.11039062500004\" y=\"175.0\" width=\"80.74457031250002\" height=\"40\" stroke=\"black\" fill=\"white\" stroke-width=\"1\" /><text x=\"421.48267578125007\" y=\"195.0\" dominant-baseline=\"middle\" text-anchor=\"middle\" font-size=\"14px\" font-family=\"Arial\">XX^(xx-2)</text><rect x=\"381.11039062500004\" y=\"25.0\" width=\"80.74457031250002\" height=\"40\" stroke=\"black\" fill=\"white\" stroke-width=\"1\" /><text x=\"421.48267578125007\" y=\"45.0\" dominant-baseline=\"middle\" text-anchor=\"middle\" font-size=\"14px\" font-family=\"Arial\">XX</text><rect x=\"461.85496093750004\" y=\"125.0\" width=\"40\" height=\"40\" stroke=\"black\" fill=\"white\" stroke-width=\"1\" /><text x=\"481.85496093750004\" y=\"145.0\" dominant-baseline=\"middle\" text-anchor=\"middle\" font-size=\"18px\" font-family=\"Arial\">H</text><rect x=\"521.8549609375\" y=\"225.0\" width=\"80.74457031250002\" height=\"40\" stroke=\"black\" fill=\"white\" stroke-width=\"1\" /><text x=\"562.22724609375\" y=\"245.0\" dominant-baseline=\"middle\" text-anchor=\"middle\" font-size=\"14px\" font-family=\"Arial\">XX^(xx-3)</text><rect x=\"521.8549609375\" y=\"25.0\" width=\"80.74457031250002\" height=\"40\" stroke=\"black\" fill=\"white\" stroke-width=\"1\" /><text x=\"562.22724609375\" y=\"45.0\" dominant-baseline=\"middle\" text-anchor=\"middle\" font-size=\"14px\" font-family=\"Arial\">XX</text><rect x=\"602.59953125\" y=\"175.0\" width=\"40\" height=\"40\" stroke=\"black\" fill=\"white\" stroke-width=\"1\" /><text x=\"622.59953125\" y=\"195.0\" dominant-baseline=\"middle\" text-anchor=\"middle\" font-size=\"18px\" font-family=\"Arial\">H</text><rect x=\"672.59953125\" y=\"225.0\" width=\"40\" height=\"40\" stroke=\"black\" fill=\"white\" stroke-width=\"1\" /><text x=\"692.59953125\" y=\"245.0\" dominant-baseline=\"middle\" text-anchor=\"middle\" font-size=\"18px\" font-family=\"Arial\">H</text></svg>"
      ],
      "text/plain": [
       "<cirq.contrib.svg.svg.SVGCircuit at 0x7f917c22b430>"
      ]
     },
     "execution_count": 30,
     "metadata": {},
     "output_type": "execute_result"
    }
   ],
   "source": [
    "demo_builder = CircuitLayerBuilder_graph(data_qubits = cirq.GridQubit.rect(4,1),\n",
    "                                   readout=cirq.GridQubit(-1,-1))\n",
    "\n",
    "circuit = cirq.Circuit()\n",
    "demo_builder.add_layer(circuit, gate = cirq.XX, prefix='xx')\n",
    "SVGCircuit(circuit)"
   ]
  },
  {
   "cell_type": "markdown",
   "metadata": {
    "colab_type": "text",
    "id": "T-QhPE1pojhu"
   },
   "source": [
    "Now build a two-layered model, matching the data-circuit size, and include the preparation and readout operations."
   ]
  },
  {
   "cell_type": "code",
   "execution_count": 31,
   "metadata": {
    "colab": {},
    "colab_type": "code",
    "execution": {
     "iopub.execute_input": "2023-03-21T11:34:56.071509Z",
     "iopub.status.busy": "2023-03-21T11:34:56.071014Z",
     "iopub.status.idle": "2023-03-21T11:34:56.076185Z",
     "shell.execute_reply": "2023-03-21T11:34:56.075517Z"
    },
    "id": "JiALbpwRGL69"
   },
   "outputs": [],
   "source": [
    "def create_quantum_model():\n",
    "    \"\"\"Create a QNN model circuit and readout operation to go along with it.\"\"\"\n",
    "    data_qubits = cirq.GridQubit.rect(4, 4)  # a 4x4 grid.\n",
    "    readout = cirq.GridQubit(-1, -1)         # a single qubit at [-1,-1]\n",
    "    circuit = cirq.Circuit()\n",
    "    \n",
    "    # Prepare the readout qubit.\n",
    "    circuit.append(cirq.X(readout))\n",
    "    circuit.append(cirq.H(readout))\n",
    "    \n",
    "    builder = CircuitLayerBuilder(\n",
    "        data_qubits = data_qubits,\n",
    "        readout=readout)\n",
    "    \n",
    "    # Then add layers (experiment by adding more).\n",
    "    builder.add_layer(circuit, cirq.XX, \"xx1\")\n",
    "    builder.add_layer(circuit, cirq.ZZ, \"zz1\")\n",
    "    #builder.add_layer(circuit, cirq.ZZ, \"zz2\")\n",
    "\n",
    "    # Finally, prepare the readout qubit.\n",
    "    circuit.append(cirq.H(readout))\n",
    "\n",
    "    return circuit, cirq.Z(readout)"
   ]
  },
  {
   "cell_type": "code",
   "execution_count": 32,
   "metadata": {},
   "outputs": [],
   "source": [
    "def create_quantum_model_g():\n",
    "    \"\"\"Create a QNN model circuit and readout operation to go along with it.\"\"\"\n",
    "    data_qubits = cirq.GridQubit.rect(4, 4)  # a 4x4 grid.\n",
    "    readout = cirq.GridQubit(-1, -1)         # a single qubit at [-1,-1]\n",
    "    circuit = cirq.Circuit()\n",
    "    \n",
    "    # Prepare the readout qubit.\n",
    "    circuit.append(cirq.X(readout))\n",
    "    circuit.append(cirq.H(readout))\n",
    "    #The standard procedure was CircuitLayerBuilder, it has not the adj matrix encoded and a different structure\n",
    "    builder = CircuitLayerBuilder_graph(\n",
    "        data_qubits = data_qubits,\n",
    "        readout=readout)\n",
    "    \n",
    "    # Then add layers (experiment by adding more).\n",
    "    #builder.add_layer(circuit, cirq.XX, \"xx1\")\n",
    "    builder.add_layer(circuit, cirq.ZZ, \"zz1\")\n",
    "    builder.add_layer(circuit, cirq.ZZ, \"zz2\")\n",
    "\n",
    "    # Finally, prepare the readout qubit.\n",
    "    circuit.append(cirq.H(readout))\n",
    "\n",
    "    return circuit, cirq.Z(readout)"
   ]
  },
  {
   "cell_type": "code",
   "execution_count": 33,
   "metadata": {
    "colab": {},
    "colab_type": "code",
    "execution": {
     "iopub.execute_input": "2023-03-21T11:34:56.079094Z",
     "iopub.status.busy": "2023-03-21T11:34:56.078556Z",
     "iopub.status.idle": "2023-03-21T11:34:56.092611Z",
     "shell.execute_reply": "2023-03-21T11:34:56.091960Z"
    },
    "id": "2QZvVh7vojhx"
   },
   "outputs": [],
   "source": [
    "model_circuit, model_readout = create_quantum_model()\n",
    "model_circuit_g, model_readout = create_quantum_model_g()"
   ]
  },
  {
   "cell_type": "markdown",
   "metadata": {
    "colab_type": "text",
    "id": "LY7vbY6yfABE"
   },
   "source": [
    "### 2.2 Wrap the model-circuit in a tfq-keras model\n",
    "\n",
    "Build the Keras model with the quantum components. This model is fed the \"quantum data\", from `x_train_circ`, that encodes the classical data. It uses a *Parametrized Quantum Circuit* layer, `tfq.layers.PQC`, to train the model circuit, on the quantum data.\n",
    "\n",
    "To classify these images, following <a href=\"https://arxiv.org/pdf/1802.06002.pdf\" class=\"external\">Farhi et al.</a> prwe use the expectation of a readout qubit in a parameterized circuit. This returns a value between 1 and -1 that can be trivially associated with a binary classification task"
   ]
  },
  {
   "cell_type": "code",
   "execution_count": 34,
   "metadata": {
    "colab": {},
    "colab_type": "code",
    "execution": {
     "iopub.execute_input": "2023-03-21T11:34:56.095614Z",
     "iopub.status.busy": "2023-03-21T11:34:56.095078Z",
     "iopub.status.idle": "2023-03-21T11:34:57.350875Z",
     "shell.execute_reply": "2023-03-21T11:34:57.350074Z"
    },
    "id": "ZYdf_KOxojh0"
   },
   "outputs": [],
   "source": [
    "# Build the Keras model.\n",
    "model = tf.keras.Sequential([\n",
    "    # The input is the data-circuit, encoded as a tf.string\n",
    "    tf.keras.layers.Input(shape=(), dtype=tf.string),\n",
    "    # The PQC layer returns the expected value of the readout gate, range [-1,1].\n",
    "    tfq.layers.PQC(model_circuit, model_readout),\n",
    "])\n",
    "model_g = tf.keras.Sequential([\n",
    "    # The input is the data-circuit, encoded as a tf.string\n",
    "    tf.keras.layers.Input(shape=(), dtype=tf.string),\n",
    "    # The PQC layer returns the expected value of the readout gate, range [-1,1].\n",
    "    tfq.layers.PQC(model_circuit_g, model_readout),\n",
    "])"
   ]
  },
  {
   "cell_type": "markdown",
   "metadata": {
    "colab_type": "text",
    "id": "jz-FbVc9ojh3"
   },
   "source": [
    "Next, describe the training procedure to the model, using the `compile` method.\n",
    "\n",
    "Since the the expected readout is in the range `[-1,1]`, optimizing the hinge loss is a somewhat natural fit. \n",
    "\n",
    "Note: Another valid approach would be to shift the output range to `[0,1]`, and treat it as the probability the model assigns to class `3`. This could be used with a standard a `tf.losses.BinaryCrossentropy` loss.\n",
    "\n",
    "To use the hinge loss here you need to make two small adjustments. First convert the labels, `y_train_nocon`, from boolean to `[-1,1]`, as expected by the hinge loss."
   ]
  },
  {
   "cell_type": "code",
   "execution_count": 35,
   "metadata": {
    "colab": {},
    "colab_type": "code",
    "execution": {
     "iopub.execute_input": "2023-03-21T11:34:57.354489Z",
     "iopub.status.busy": "2023-03-21T11:34:57.354227Z",
     "iopub.status.idle": "2023-03-21T11:34:57.358167Z",
     "shell.execute_reply": "2023-03-21T11:34:57.357437Z"
    },
    "id": "CgMNkC1Fojh5"
   },
   "outputs": [],
   "source": [
    "y_train_hinge = 2.0*y_train_nocon-1.0\n",
    "y_test_hinge = 2.0*y_test-1.0"
   ]
  },
  {
   "cell_type": "markdown",
   "metadata": {
    "colab_type": "text",
    "id": "5nwnveDiojh7"
   },
   "source": [
    "Second, use a custiom `hinge_accuracy` metric that correctly handles `[-1, 1]` as the `y_true` labels argument. \n",
    "`tf.losses.BinaryAccuracy(threshold=0.0)` expects `y_true` to be a boolean, and so can't be used with hinge loss)."
   ]
  },
  {
   "cell_type": "code",
   "execution_count": 36,
   "metadata": {
    "colab": {},
    "colab_type": "code",
    "execution": {
     "iopub.execute_input": "2023-03-21T11:34:57.361143Z",
     "iopub.status.busy": "2023-03-21T11:34:57.360647Z",
     "iopub.status.idle": "2023-03-21T11:34:57.364606Z",
     "shell.execute_reply": "2023-03-21T11:34:57.363955Z"
    },
    "id": "3XKtZ_TEojh8"
   },
   "outputs": [],
   "source": [
    "def hinge_accuracy(y_true, y_pred):\n",
    "    y_true = tf.squeeze(y_true) > 0.0\n",
    "    y_pred = tf.squeeze(y_pred) > 0.0\n",
    "    result = tf.cast(y_true == y_pred, tf.float32)\n",
    "\n",
    "    return tf.reduce_mean(result)"
   ]
  },
  {
   "cell_type": "code",
   "execution_count": 37,
   "metadata": {
    "colab": {},
    "colab_type": "code",
    "execution": {
     "iopub.execute_input": "2023-03-21T11:34:57.367616Z",
     "iopub.status.busy": "2023-03-21T11:34:57.367067Z",
     "iopub.status.idle": "2023-03-21T11:34:57.378148Z",
     "shell.execute_reply": "2023-03-21T11:34:57.377472Z"
    },
    "id": "FlpETlLRojiA"
   },
   "outputs": [],
   "source": [
    "model.compile(\n",
    "    loss=tf.keras.losses.Hinge(),\n",
    "    optimizer=tf.keras.optimizers.Adam(),\n",
    "    metrics=[hinge_accuracy])\n",
    "model_g.compile(\n",
    "    loss=tf.keras.losses.Hinge(),\n",
    "    optimizer=tf.keras.optimizers.Adam(),\n",
    "    metrics=[hinge_accuracy])"
   ]
  },
  {
   "cell_type": "code",
   "execution_count": 38,
   "metadata": {
    "colab": {},
    "colab_type": "code",
    "execution": {
     "iopub.execute_input": "2023-03-21T11:34:57.380936Z",
     "iopub.status.busy": "2023-03-21T11:34:57.380446Z",
     "iopub.status.idle": "2023-03-21T11:34:57.384656Z",
     "shell.execute_reply": "2023-03-21T11:34:57.383981Z"
    },
    "id": "jkHq2RstojiC"
   },
   "outputs": [
    {
     "name": "stdout",
     "output_type": "stream",
     "text": [
      "Model: \"sequential\"\n",
      "_________________________________________________________________\n",
      " Layer (type)                Output Shape              Param #   \n",
      "=================================================================\n",
      " pqc (PQC)                   (None, 1)                 32        \n",
      "                                                                 \n",
      "=================================================================\n",
      "Total params: 32\n",
      "Trainable params: 32\n",
      "Non-trainable params: 0\n",
      "_________________________________________________________________\n",
      "None\n"
     ]
    }
   ],
   "source": [
    "print(model.summary())"
   ]
  },
  {
   "cell_type": "code",
   "execution_count": 39,
   "metadata": {},
   "outputs": [
    {
     "name": "stdout",
     "output_type": "stream",
     "text": [
      "Model: \"sequential_1\"\n",
      "_________________________________________________________________\n",
      " Layer (type)                Output Shape              Param #   \n",
      "=================================================================\n",
      " pqc_1 (PQC)                 (None, 1)                 32        \n",
      "                                                                 \n",
      "=================================================================\n",
      "Total params: 32\n",
      "Trainable params: 32\n",
      "Non-trainable params: 0\n",
      "_________________________________________________________________\n",
      "None\n"
     ]
    }
   ],
   "source": [
    "print(model_g.summary())"
   ]
  },
  {
   "cell_type": "markdown",
   "metadata": {
    "colab_type": "text",
    "id": "lsuOzDYblA9s"
   },
   "source": [
    "### Train the quantum model\n",
    "\n",
    "Training the model takes about 15 min on a Ryzen 4800H cpu, OS: Ubuntu 20.04 on WSL2. (Was not able to configure GPU training yet)"
   ]
  },
  {
   "cell_type": "code",
   "execution_count": 40,
   "metadata": {
    "colab": {},
    "colab_type": "code",
    "execution": {
     "iopub.execute_input": "2023-03-21T11:34:57.387597Z",
     "iopub.status.busy": "2023-03-21T11:34:57.387081Z",
     "iopub.status.idle": "2023-03-21T11:34:57.390441Z",
     "shell.execute_reply": "2023-03-21T11:34:57.389772Z"
    },
    "id": "n8vuQpSLlBV2"
   },
   "outputs": [],
   "source": [
    "EPOCHS = 3\n",
    "BATCH_SIZE = 32\n",
    "\n",
    "NUM_EXAMPLES = len(x_train_tfcirc)"
   ]
  },
  {
   "cell_type": "code",
   "execution_count": 41,
   "metadata": {
    "colab": {},
    "colab_type": "code",
    "execution": {
     "iopub.execute_input": "2023-03-21T11:34:57.393215Z",
     "iopub.status.busy": "2023-03-21T11:34:57.392817Z",
     "iopub.status.idle": "2023-03-21T11:34:57.396468Z",
     "shell.execute_reply": "2023-03-21T11:34:57.395818Z"
    },
    "id": "qJnNG-3JojiI"
   },
   "outputs": [],
   "source": [
    "x_train_tfcirc_sub_g = x_train_tfcirc_g[:NUM_EXAMPLES]\n",
    "x_train_tfcirc_sub = x_train_tfcirc[:NUM_EXAMPLES]\n",
    "y_train_hinge_sub = y_train_hinge[:NUM_EXAMPLES]"
   ]
  },
  {
   "cell_type": "markdown",
   "metadata": {
    "colab_type": "text",
    "id": "QMSdgGC1GL7D"
   },
   "source": [
    "Training this model to convergence should achieve >85% accuracy on the test set, this refers to not using the graph encoded as input. \n",
    "\n",
    "##### Memo: look into data_reuploading afterwards"
   ]
  },
  {
   "cell_type": "code",
   "execution_count": 47,
   "metadata": {
    "colab": {},
    "colab_type": "code",
    "execution": {
     "iopub.execute_input": "2023-03-21T11:34:57.399510Z",
     "iopub.status.busy": "2023-03-21T11:34:57.398999Z",
     "iopub.status.idle": "2023-03-21T11:38:11.850634Z",
     "shell.execute_reply": "2023-03-21T11:38:11.849803Z"
    },
    "id": "Ya9qP3KkojiM"
   },
   "outputs": [
    {
     "name": "stdout",
     "output_type": "stream",
     "text": [
      "Epoch 1/3\n",
      "324/324 [==============================] - 216s 667ms/step - loss: 0.4119 - hinge_accuracy: 0.8538 - val_loss: 0.3632 - val_hinge_accuracy: 0.8836\n",
      "Epoch 2/3\n",
      "324/324 [==============================] - 217s 671ms/step - loss: 0.3801 - hinge_accuracy: 0.8608 - val_loss: 0.3550 - val_hinge_accuracy: 0.8599\n",
      "Epoch 3/3\n",
      "324/324 [==============================] - 215s 664ms/step - loss: 0.3725 - hinge_accuracy: 0.8655 - val_loss: 0.3491 - val_hinge_accuracy: 0.8594\n",
      "62/62 [==============================] - 6s 90ms/step - loss: 0.3491 - hinge_accuracy: 0.8594\n"
     ]
    }
   ],
   "source": [
    "qnn_history = model.fit(\n",
    "      x_train_tfcirc_sub, y_train_hinge_sub,\n",
    "      batch_size=32,\n",
    "      epochs=EPOCHS,\n",
    "      verbose=1,\n",
    "      validation_data=(x_test_tfcirc, y_test_hinge))\n",
    "\n",
    "qnn_results = model.evaluate(x_test_tfcirc, y_test)\n"
   ]
  },
  {
   "cell_type": "markdown",
   "metadata": {},
   "source": [
    "Training the following model takes around 20minutes instead. We are encoding the graph structure this time"
   ]
  },
  {
   "cell_type": "code",
   "execution_count": 43,
   "metadata": {},
   "outputs": [
    {
     "name": "stdout",
     "output_type": "stream",
     "text": [
      "Epoch 1/3\n",
      "324/324 [==============================] - 384s 1s/step - loss: 0.8780 - hinge_accuracy: 0.6852 - val_loss: 0.7347 - val_hinge_accuracy: 0.8478\n",
      "Epoch 2/3\n",
      "324/324 [==============================] - 381s 1s/step - loss: 0.6907 - hinge_accuracy: 0.8651 - val_loss: 0.6447 - val_hinge_accuracy: 0.8987\n",
      "Epoch 3/3\n",
      "324/324 [==============================] - 373s 1s/step - loss: 0.6634 - hinge_accuracy: 0.8695 - val_loss: 0.6584 - val_hinge_accuracy: 0.8972\n",
      "62/62 [==============================] - 8s 125ms/step - loss: 1.0000 - hinge_accuracy: 0.6321\n"
     ]
    }
   ],
   "source": [
    "qnn_history_g = model_g.fit(\n",
    "      x_train_tfcirc_sub_g, y_train_hinge_sub,\n",
    "      batch_size=32,\n",
    "      epochs=EPOCHS,\n",
    "      verbose=1,\n",
    "      validation_data=(x_test_tfcirc_g, y_test_hinge))\n",
    "\n",
    "qnn_results_g = model.evaluate(x_test_tfcirc_g, y_test)\n"
   ]
  },
  {
   "cell_type": "code",
   "execution_count": 46,
   "metadata": {},
   "outputs": [
    {
     "name": "stdout",
     "output_type": "stream",
     "text": [
      "62/62 [==============================] - 9s 150ms/step - loss: 0.6584 - hinge_accuracy: 0.8972\n",
      "324/324 [==============================] - 362s 1s/step - loss: 0.6640 - hinge_accuracy: 0.8644 - val_loss: 0.6565 - val_hinge_accuracy: 0.8952\n"
     ]
    }
   ],
   "source": [
    "qnn_results_g = model_g.evaluate(x_test_tfcirc_g, y_test_hinge)\n",
    "qnn_history_g = model_g.fit(\n",
    "      x_train_tfcirc_sub_g, y_train_hinge_sub,\n",
    "      batch_size=32,\n",
    "      epochs=1,\n",
    "      verbose=1,\n",
    "      validation_data=(x_test_tfcirc_g, y_test_hinge))"
   ]
  },
  {
   "cell_type": "markdown",
   "metadata": {
    "colab_type": "text",
    "id": "3ER7B7aaojiP"
   },
   "source": [
    "Note: The training accuracy reports the average over the epoch. The validation accuracy is evaluated at the end of each epoch."
   ]
  },
  {
   "cell_type": "markdown",
   "metadata": {
    "colab_type": "text",
    "id": "8952YvuWGL7J"
   },
   "source": [
    "## 3. Classical neural network\n",
    "\n",
    "While the quantum neural network works for this simplified MNIST problem, a basic classical neural network can easily outperform a QNN on this task. After a single epoch, a classical neural network can achieve >98% accuracy on the holdout set.\n",
    "\n",
    "In the following example, a classical neural network is used for for the 3-6 classification problem using the entire 28x28 image instead of subsampling the image. This easily converges to nearly 100% accuracy of the test set."
   ]
  },
  {
   "cell_type": "code",
   "execution_count": 48,
   "metadata": {
    "colab": {},
    "colab_type": "code",
    "execution": {
     "iopub.execute_input": "2023-03-21T11:38:11.854650Z",
     "iopub.status.busy": "2023-03-21T11:38:11.854056Z",
     "iopub.status.idle": "2023-03-21T11:38:11.915983Z",
     "shell.execute_reply": "2023-03-21T11:38:11.915281Z"
    },
    "id": "pZofEHhLGL7L"
   },
   "outputs": [
    {
     "name": "stdout",
     "output_type": "stream",
     "text": [
      "Model: \"sequential_2\"\n",
      "_________________________________________________________________\n",
      " Layer (type)                Output Shape              Param #   \n",
      "=================================================================\n",
      " conv2d (Conv2D)             (None, 26, 26, 32)        320       \n",
      "                                                                 \n",
      " conv2d_1 (Conv2D)           (None, 24, 24, 64)        18496     \n",
      "                                                                 \n",
      " max_pooling2d (MaxPooling2D  (None, 12, 12, 64)       0         \n",
      " )                                                               \n",
      "                                                                 \n",
      " dropout (Dropout)           (None, 12, 12, 64)        0         \n",
      "                                                                 \n",
      " flatten (Flatten)           (None, 9216)              0         \n",
      "                                                                 \n",
      " dense (Dense)               (None, 128)               1179776   \n",
      "                                                                 \n",
      " dropout_1 (Dropout)         (None, 128)               0         \n",
      "                                                                 \n",
      " dense_1 (Dense)             (None, 1)                 129       \n",
      "                                                                 \n",
      "=================================================================\n",
      "Total params: 1,198,721\n",
      "Trainable params: 1,198,721\n",
      "Non-trainable params: 0\n",
      "_________________________________________________________________\n"
     ]
    }
   ],
   "source": [
    "def create_classical_model():\n",
    "    # A simple model based off LeNet from https://keras.io/examples/mnist_cnn/\n",
    "    model = tf.keras.Sequential()\n",
    "    model.add(tf.keras.layers.Conv2D(32, [3, 3], activation='relu', input_shape=(28,28,1)))\n",
    "    model.add(tf.keras.layers.Conv2D(64, [3, 3], activation='relu'))\n",
    "    model.add(tf.keras.layers.MaxPooling2D(pool_size=(2, 2)))\n",
    "    model.add(tf.keras.layers.Dropout(0.25))\n",
    "    model.add(tf.keras.layers.Flatten())\n",
    "    model.add(tf.keras.layers.Dense(128, activation='relu'))\n",
    "    model.add(tf.keras.layers.Dropout(0.5))\n",
    "    model.add(tf.keras.layers.Dense(1))\n",
    "    return model\n",
    "\n",
    "\n",
    "model = create_classical_model()\n",
    "model.compile(loss=tf.keras.losses.BinaryCrossentropy(from_logits=True),\n",
    "              optimizer=tf.keras.optimizers.Adam(),\n",
    "              metrics=['accuracy'])\n",
    "\n",
    "model.summary()"
   ]
  },
  {
   "cell_type": "code",
   "execution_count": 49,
   "metadata": {
    "colab": {},
    "colab_type": "code",
    "execution": {
     "iopub.execute_input": "2023-03-21T11:38:11.919274Z",
     "iopub.status.busy": "2023-03-21T11:38:11.918677Z",
     "iopub.status.idle": "2023-03-21T11:38:15.631175Z",
     "shell.execute_reply": "2023-03-21T11:38:15.630430Z"
    },
    "id": "CiAJl7sZojiU"
   },
   "outputs": [
    {
     "name": "stdout",
     "output_type": "stream",
     "text": [
      "95/95 [==============================] - 7s 68ms/step - loss: 0.0390 - accuracy: 0.9841 - val_loss: 0.0039 - val_accuracy: 0.9980\n",
      "62/62 [==============================] - 0s 5ms/step - loss: 0.0039 - accuracy: 0.9980\n"
     ]
    }
   ],
   "source": [
    "model.fit(x_train,\n",
    "          y_train,\n",
    "          batch_size=128,\n",
    "          epochs=1,\n",
    "          verbose=1,\n",
    "          validation_data=(x_test, y_test))\n",
    "\n",
    "cnn_results = model.evaluate(x_test, y_test)"
   ]
  },
  {
   "cell_type": "markdown",
   "metadata": {
    "colab_type": "text",
    "id": "X5-5BVJaojiZ"
   },
   "source": [
    "The above model has nearly 1.2M parameters, and trains on the full image. For a fair comparison, consider a smaller Neural network, a 37-parameter model, on the subsampled images:"
   ]
  },
  {
   "cell_type": "code",
   "execution_count": 64,
   "metadata": {
    "colab": {},
    "colab_type": "code",
    "execution": {
     "iopub.execute_input": "2023-03-21T11:38:15.634858Z",
     "iopub.status.busy": "2023-03-21T11:38:15.634296Z",
     "iopub.status.idle": "2023-03-21T11:38:15.663745Z",
     "shell.execute_reply": "2023-03-21T11:38:15.663076Z"
    },
    "id": "70TOM6r-ojiZ",
    "scrolled": false
   },
   "outputs": [
    {
     "name": "stdout",
     "output_type": "stream",
     "text": [
      "Model: \"sequential_4\"\n",
      "_________________________________________________________________\n",
      " Layer (type)                Output Shape              Param #   \n",
      "=================================================================\n",
      " flatten_2 (Flatten)         (None, 16)                0         \n",
      "                                                                 \n",
      " dense_4 (Dense)             (None, 2)                 34        \n",
      "                                                                 \n",
      " dense_5 (Dense)             (None, 1)                 3         \n",
      "                                                                 \n",
      "=================================================================\n",
      "Total params: 37\n",
      "Trainable params: 37\n",
      "Non-trainable params: 0\n",
      "_________________________________________________________________\n"
     ]
    }
   ],
   "source": [
    "def create_fair_classical_model():\n",
    "    # A simple model based off LeNet from https://keras.io/examples/mnist_cnn/\n",
    "    model = tf.keras.Sequential()\n",
    "    model.add(tf.keras.layers.Flatten(input_shape=(4,4,1)))\n",
    "    model.add(tf.keras.layers.Dense(2, activation='relu'))\n",
    "    model.add(tf.keras.layers.Dense(1))\n",
    "    return model\n",
    "\n",
    "\n",
    "model = create_fair_classical_model()\n",
    "model.compile(loss=tf.keras.losses.BinaryCrossentropy(from_logits=True),\n",
    "              optimizer=tf.keras.optimizers.Adam(learning_rate=0.003),\n",
    "              metrics=['accuracy'])\n",
    "\n",
    "model.summary()"
   ]
  },
  {
   "cell_type": "code",
   "execution_count": 65,
   "metadata": {
    "colab": {},
    "colab_type": "code",
    "execution": {
     "iopub.execute_input": "2023-03-21T11:38:15.666842Z",
     "iopub.status.busy": "2023-03-21T11:38:15.666248Z",
     "iopub.status.idle": "2023-03-21T11:38:18.278954Z",
     "shell.execute_reply": "2023-03-21T11:38:18.278213Z"
    },
    "id": "lA_Fx-8gojid"
   },
   "outputs": [
    {
     "name": "stdout",
     "output_type": "stream",
     "text": [
      "Epoch 1/20\n",
      "81/81 - 0s - loss: 0.6706 - accuracy: 0.5426 - val_loss: 0.6193 - val_accuracy: 0.5706 - 480ms/epoch - 6ms/step\n",
      "Epoch 2/20\n",
      "81/81 - 0s - loss: 0.5435 - accuracy: 0.7298 - val_loss: 0.4484 - val_accuracy: 0.8064 - 151ms/epoch - 2ms/step\n",
      "Epoch 3/20\n",
      "81/81 - 0s - loss: 0.3609 - accuracy: 0.8401 - val_loss: 0.2985 - val_accuracy: 0.8623 - 151ms/epoch - 2ms/step\n",
      "Epoch 4/20\n",
      "81/81 - 0s - loss: 0.2714 - accuracy: 0.8716 - val_loss: 0.2495 - val_accuracy: 0.8653 - 153ms/epoch - 2ms/step\n",
      "Epoch 5/20\n",
      "81/81 - 0s - loss: 0.2425 - accuracy: 0.8874 - val_loss: 0.2327 - val_accuracy: 0.8653 - 154ms/epoch - 2ms/step\n",
      "Epoch 6/20\n",
      "81/81 - 0s - loss: 0.2311 - accuracy: 0.8987 - val_loss: 0.2243 - val_accuracy: 0.9141 - 151ms/epoch - 2ms/step\n",
      "Epoch 7/20\n",
      "81/81 - 0s - loss: 0.2256 - accuracy: 0.9016 - val_loss: 0.2204 - val_accuracy: 0.9141 - 152ms/epoch - 2ms/step\n",
      "Epoch 8/20\n",
      "81/81 - 0s - loss: 0.2225 - accuracy: 0.9033 - val_loss: 0.2182 - val_accuracy: 0.9141 - 148ms/epoch - 2ms/step\n",
      "Epoch 9/20\n",
      "81/81 - 0s - loss: 0.2208 - accuracy: 0.9038 - val_loss: 0.2169 - val_accuracy: 0.9151 - 151ms/epoch - 2ms/step\n",
      "Epoch 10/20\n",
      "81/81 - 0s - loss: 0.2200 - accuracy: 0.9039 - val_loss: 0.2171 - val_accuracy: 0.9162 - 152ms/epoch - 2ms/step\n",
      "Epoch 11/20\n",
      "81/81 - 0s - loss: 0.2189 - accuracy: 0.9045 - val_loss: 0.2167 - val_accuracy: 0.9167 - 148ms/epoch - 2ms/step\n",
      "Epoch 12/20\n",
      "81/81 - 0s - loss: 0.2182 - accuracy: 0.9046 - val_loss: 0.2160 - val_accuracy: 0.9167 - 155ms/epoch - 2ms/step\n",
      "Epoch 13/20\n",
      "81/81 - 0s - loss: 0.2178 - accuracy: 0.9046 - val_loss: 0.2156 - val_accuracy: 0.9167 - 162ms/epoch - 2ms/step\n",
      "Epoch 14/20\n",
      "81/81 - 0s - loss: 0.2174 - accuracy: 0.9046 - val_loss: 0.2154 - val_accuracy: 0.9167 - 162ms/epoch - 2ms/step\n",
      "Epoch 15/20\n",
      "81/81 - 0s - loss: 0.2171 - accuracy: 0.9052 - val_loss: 0.2158 - val_accuracy: 0.9167 - 162ms/epoch - 2ms/step\n",
      "Epoch 16/20\n",
      "81/81 - 0s - loss: 0.2168 - accuracy: 0.9054 - val_loss: 0.2159 - val_accuracy: 0.9167 - 150ms/epoch - 2ms/step\n",
      "Epoch 17/20\n",
      "81/81 - 0s - loss: 0.2168 - accuracy: 0.9054 - val_loss: 0.2152 - val_accuracy: 0.9167 - 149ms/epoch - 2ms/step\n",
      "Epoch 18/20\n",
      "81/81 - 0s - loss: 0.2165 - accuracy: 0.9054 - val_loss: 0.2149 - val_accuracy: 0.9167 - 164ms/epoch - 2ms/step\n",
      "Epoch 19/20\n",
      "81/81 - 0s - loss: 0.2162 - accuracy: 0.9054 - val_loss: 0.2154 - val_accuracy: 0.9167 - 156ms/epoch - 2ms/step\n",
      "Epoch 20/20\n",
      "81/81 - 0s - loss: 0.2160 - accuracy: 0.9025 - val_loss: 0.2141 - val_accuracy: 0.9167 - 142ms/epoch - 2ms/step\n",
      "62/62 [==============================] - 0s 1ms/step - loss: 0.2141 - accuracy: 0.9167\n"
     ]
    }
   ],
   "source": [
    "model.fit(x_train_bin,\n",
    "          y_train_nocon,\n",
    "          batch_size=128,\n",
    "          epochs=20,\n",
    "          verbose=2,\n",
    "          validation_data=(x_test_bin, y_test))\n",
    "\n",
    "fair_nn_results = model.evaluate(x_test_bin, y_test)"
   ]
  },
  {
   "cell_type": "markdown",
   "metadata": {
    "colab_type": "text",
    "id": "RH3mam7EGL7N"
   },
   "source": [
    "## 4. Comparison\n",
    "\n",
    "Higher resolution input and a more powerful model make this problem easy for the CNN. While a classical model of similar power (~32 parameters) trains to a similar accuracy in a fraction of the time. One way or the other, the classical neural network easily outperforms the quantum neural network. For classical data, it is difficult to beat a classical neural network."
   ]
  },
  {
   "cell_type": "code",
   "execution_count": 66,
   "metadata": {
    "colab": {},
    "colab_type": "code",
    "execution": {
     "iopub.execute_input": "2023-03-21T11:38:18.282725Z",
     "iopub.status.busy": "2023-03-21T11:38:18.282071Z",
     "iopub.status.idle": "2023-03-21T11:38:18.418457Z",
     "shell.execute_reply": "2023-03-21T11:38:18.417721Z"
    },
    "id": "NOMeN7pMGL7P"
   },
   "outputs": [
    {
     "data": {
      "image/png": "[encoded data removed]",
      "text/plain": [
       "<Figure size 640x480 with 1 Axes>"
      ]
     },
     "metadata": {},
     "output_type": "display_data"
    }
   ],
   "source": [
    "qnn_accuracy = qnn_results[1]\n",
    "cnn_accuracy = cnn_results[1]\n",
    "fair_nn_accuracy = fair_nn_results[1]\n",
    "qnn_accuracy_g  = qnn_results_g[1]\n",
    "\n",
    "sns.barplot(x=[\"Quantum\", \"Quantum g\", \"Classical, fair\", \"Classical, full\"],\n",
    "            y=[qnn_accuracy,qnn_accuracy_g , fair_nn_accuracy, cnn_accuracy])\n",
    "plt.title(\"Accuracy\");"
   ]
  },
  {
   "cell_type": "code",
   "execution_count": null,
   "metadata": {},
   "outputs": [],
   "source": []
  },
  {
   "cell_type": "code",
   "execution_count": null,
   "metadata": {},
   "outputs": [],
   "source": []
  }
 ],
 "metadata": {
  "colab": {
   "collapsed_sections": [],
   "name": "mnist.ipynb",
   "private_outputs": true,
   "provenance": [],
   "toc_visible": true
  },
  "kernelspec": {
   "display_name": "TFQUANTUM",
   "language": "python",
   "name": "tfquantum"
  },
  "language_info": {
   "codemirror_mode": {
    "name": "ipython",
    "version": 3
   },
   "file_extension": ".py",
   "mimetype": "text/x-python",
   "name": "python",
   "nbconvert_exporter": "python",
   "pygments_lexer": "ipython3",
   "version": "3.9.16"
  },
  "vscode": {
   "interpreter": {
    "hash": "916dbcbb3f70747c44a77c7bcd40155683ae19c65e1c03b4aa3499c5328201f1"
   }
  }
 },
 "nbformat": 4,
 "nbformat_minor": 1
}
